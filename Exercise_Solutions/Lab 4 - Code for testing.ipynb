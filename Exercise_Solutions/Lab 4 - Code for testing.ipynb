{
 "cells": [
  {
   "cell_type": "code",
   "execution_count": 1,
   "metadata": {},
   "outputs": [],
   "source": [
    "import numpy as np"
   ]
  },
  {
   "cell_type": "code",
   "execution_count": 20,
   "metadata": {},
   "outputs": [],
   "source": [
    "#First example from projection day. should work. v1/v2 orthogonal.\n",
    "vec1_a = np.array([1,2,1])\n",
    "vec2_a = np.array([-1,0,1])\n",
    "vecb_a = np.array([1,1,2])\n",
    "\n",
    "#Second example from projection day, v1/v2 NOT orthogonal.\n",
    "vec1_b = np.array([1,0])\n",
    "vec2_b = np.array([np.sqrt(2)/2, np.sqrt(2)/2])\n",
    "vecb_b = np.array([1,1])\n",
    "\n",
    "#Example from Gram-Schmidt day -- with sigmas.\n",
    "vec1_c = np.array([2,0,0])\n",
    "vec2_c = np.array([1,2,2])\n",
    "vec3_c = np.array([1,0,2])"
   ]
  },
  {
   "cell_type": "code",
   "execution_count": 26,
   "metadata": {},
   "outputs": [],
   "source": [
    "def compute_sigma_coefficient(vec1, vec2):\n",
    "    '''\n",
    "    Input: Two vectors\n",
    "    Output: If vectors are orthogonal, '0'; Else the coefficient for projection along the 2nd vector.\n",
    "    \n",
    "    Hint: You should probably error-check for division by zero before simply computing this!    \n",
    "    '''\n",
    "    sigma = (np.dot(vec1, vec2) / np.dot(vec2, vec2) ) if np.dot(vec2, vec2) > 1e-20 else 0\n",
    "    \n",
    "    return sigma\n",
    "\n",
    "def project_along(vec1,vec2):\n",
    "    sigma = compute_sigma_coefficient(vec1, vec2)\n",
    "    return sigma*vec2"
   ]
  },
  {
   "cell_type": "code",
   "execution_count": 25,
   "metadata": {},
   "outputs": [
    {
     "name": "stdout",
     "output_type": "stream",
     "text": [
      "Passed computing sigma coefficients\n"
     ]
    }
   ],
   "source": [
    "try:\n",
    "    assert compute_sigma_coefficient(vec2_c, vec1_c) == 0.5, \"Incorrect Computation of Sigma\"\n",
    "    assert compute_sigma_coefficient(vecb_b, vec1_b) == 1, \"Incorrect Computation of Sigma\"\n",
    "    assert compute_sigma_coefficient(vec2_a, vec1_a) == 0, \"Incorrect Computation of Sigma\"\n",
    "    print(\"Passed computing sigma coefficients\")\n",
    "except:\n",
    "    print(\"failed at least one sigma computation\")"
   ]
  },
  {
   "cell_type": "code",
   "execution_count": 37,
   "metadata": {},
   "outputs": [],
   "source": [
    "try:\n",
    "    assert np.allclose(project_along(vecb_a,vec1_a), np.array([5/6, 10/6, 5/6])), \"Failed first projection\"\n",
    "    assert np.allclose(project_along(vec2_c, vec1_c), np.array([1,0,0]))\n",
    "except:\n",
    "    print(\"failed at least one projection\")"
   ]
  },
  {
   "cell_type": "code",
   "execution_count": 35,
   "metadata": {},
   "outputs": [
    {
     "name": "stdout",
     "output_type": "stream",
     "text": [
      "[1. 0. 0.]\n",
      "[0.83333333 1.66666667 0.83333333]\n"
     ]
    }
   ],
   "source": [
    "print(project_along(vec2_c,vec1_c))\n",
    "print(project_along(vecb_a,vec1_a))"
   ]
  },
  {
   "cell_type": "code",
   "execution_count": 36,
   "metadata": {},
   "outputs": [
    {
     "data": {
      "text/plain": [
       "True"
      ]
     },
     "execution_count": 36,
     "metadata": {},
     "output_type": "execute_result"
    }
   ],
   "source": [
    "np.allclose(project_along(vecb_a,vec1_a), np.array([5/6, 10/6, 5/6]))"
   ]
  },
  {
   "cell_type": "code",
   "execution_count": null,
   "metadata": {},
   "outputs": [],
   "source": []
  }
 ],
 "metadata": {
  "kernelspec": {
   "display_name": "Python 3",
   "language": "python",
   "name": "python3"
  },
  "language_info": {
   "codemirror_mode": {
    "name": "ipython",
    "version": 3
   },
   "file_extension": ".py",
   "mimetype": "text/x-python",
   "name": "python",
   "nbconvert_exporter": "python",
   "pygments_lexer": "ipython3",
   "version": "3.6.4"
  }
 },
 "nbformat": 4,
 "nbformat_minor": 2
}
