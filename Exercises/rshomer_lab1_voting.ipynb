{
 "cells": [
  {
   "cell_type": "markdown",
   "metadata": {},
   "source": [
    "This is a notebook version of a lab/stencil file from the textbook \"Coding the Matrix\"\n",
    "\n",
    "These files should NOT be made public, both to avoid sharing solutions, and to allow the book to maintain its value.\n",
    " \n",
    "This stencil for the lab was originally created by Philip Klien, who holds the copyright.\n",
    "\n",
    "This is a derivative work (converting to a notebook), designed for classroom simplicity, not as a separate product.\n",
    "\n",
    "# Lab: Comparing Voting Records Using Dot-Products"
   ]
  },
  {
   "cell_type": "markdown",
   "metadata": {},
   "source": [
    "### Importing the necessary data"
   ]
  },
  {
   "cell_type": "code",
   "execution_count": 101,
   "metadata": {},
   "outputs": [],
   "source": [
    "import numpy as np\n",
    "\n",
    "# uncomment to print entire NP matrix\n",
    "# np.set_printoptions(threshold=np.nan)\n",
    "\n",
    "# Requirements: the data file 'voting_record_dump109.txt' is included in the same folder as the notebook\n",
    "f = open('../Datasets/US_Senate_voting_data_109.txt')\n",
    "mylist = list(f)"
   ]
  },
  {
   "cell_type": "markdown",
   "metadata": {},
   "source": [
    "### Task 1: Create Voting Dictionary"
   ]
  },
  {
   "cell_type": "code",
   "execution_count": 102,
   "metadata": {},
   "outputs": [],
   "source": [
    "def parse_senator(senator, party_designation=None, verbose=False):    \n",
    "    s_array = senator.split()\n",
    "    \n",
    "    #ints of the character votes\n",
    "    int_votes = list(map(int,s_array[3:]))\n",
    "    \n",
    "    #keep name and voting history\n",
    "    if verbose:\n",
    "        s_key = (s_array[0], s_array[2])\n",
    "    else:\n",
    "        s_key = s_array[0]\n",
    "    s_voting_dict_elmt = (s_key, int_votes)\n",
    "    if party_designation:\n",
    "        if s_array[1] == party_designation:\n",
    "            return s_voting_dict_elmt\n",
    "        #not a party we care about\n",
    "        else:\n",
    "            return (None,None)\n",
    "    else:\n",
    "        return s_voting_dict_elmt\n",
    "        \n",
    "        \n",
    "def create_voting_dict(strlist, party_flag=None):\n",
    "    \"\"\"\n",
    "    Input: a list of strings.  Each string represents the voting record of a senator.\n",
    "           The string consists of \n",
    "              - the senator's last name, \n",
    "              - a letter indicating the senator's party,\n",
    "              - a couple of letters indicating the senator's home state, and\n",
    "              - a sequence of numbers (0's, 1's, and negative 1's) indicating the senator's\n",
    "                votes on bills\n",
    "              all separated by spaces.\n",
    "              \n",
    "    Output: A dictionary that maps the last name of a senator\n",
    "            to a list of numbers representing the senator's voting record.\n",
    "    Example: \n",
    "        >>> vd = create_voting_dict(['Kennedy D MA -1 -1 1 1', 'Snowe R ME 1 1 1 1'])\n",
    "        >>> vd == {'Snowe': [1, 1, 1, 1], 'Kennedy': [-1, -1, 1, 1]}\n",
    "        True\n",
    "\n",
    "    You can use the .split() method to split each string in the\n",
    "    strlist into a list; the first element of the list will be the senator's\n",
    "    name, the second will be his/her party affiliation (R or D), the\n",
    "    third will be his/her home state, and the remaining elements of\n",
    "    the list will be that senator's voting record on a collection of bills.\n",
    "\n",
    "    You can use the built-in procedure int() to convert a string\n",
    "    representation of an integer (e.g. '1') to the actual integer\n",
    "    (e.g. 1).\n",
    "\n",
    "    The lists for each senator should preserve the order listed in voting data.\n",
    "    In case you're feeling clever, this can be done in one line.\n",
    "    \"\"\"\n",
    "    voting_dict = dict(map(lambda sen_str : parse_senator(*[sen_str, party_flag]), strlist))\n",
    "    \n",
    "    voting_dict.pop(None, None)\n",
    "    \n",
    "    return voting_dict\n",
    "    \n",
    "    "
   ]
  },
  {
   "cell_type": "markdown",
   "metadata": {},
   "source": [
    "### Test Code for Task #1\n",
    "The following code can be used to test your 'create_voting_dict' procedure. It should be removed before exporting to the script file for auto-grading."
   ]
  },
  {
   "cell_type": "code",
   "execution_count": 103,
   "metadata": {},
   "outputs": [
    {
     "name": "stdout",
     "output_type": "stream",
     "text": [
      "{'Kennedy': [-1, -1, 1, 1], 'Snowe': [1, 1, 1, 1]}\n"
     ]
    },
    {
     "data": {
      "text/plain": [
       "True"
      ]
     },
     "execution_count": 103,
     "metadata": {},
     "output_type": "execute_result"
    }
   ],
   "source": [
    "vd = create_voting_dict(['Kennedy D MA -1 -1 1 1', 'Snowe R ME 1 1 1 1'])\n",
    "print(vd)\n",
    "vd == {'Snowe': [1, 1, 1, 1], 'Kennedy': [-1, -1, 1, 1]}"
   ]
  },
  {
   "cell_type": "markdown",
   "metadata": {},
   "source": [
    "### Task 2: Write a policy compare procedure"
   ]
  },
  {
   "cell_type": "code",
   "execution_count": 104,
   "metadata": {},
   "outputs": [],
   "source": [
    "import numpy as np\n",
    "\n",
    "def policy_compare(sen_a, sen_b, voting_dict):\n",
    "    \"\"\"\n",
    "    Input: last names of sen_a and sen_b, and a voting dictionary mapping senator\n",
    "           names to lists representing their voting records.\n",
    "    Output: the dot-product (as a number) representing the degree of similarity\n",
    "            between two senators' voting policies\n",
    "    Example:\n",
    "        >>> voting_dict = {'Fox-Epstein':[-1,-1,-1,1],'Ravella':[1,1,1,1]}\n",
    "        >>> policy_compare('Fox-Epstein','Ravella', voting_dict)\n",
    "        -2\n",
    "    \n",
    "    The code should correctly compute the dot-product even if the numbers are not all in {0,1,-1}.\n",
    "        >>> policy_compare('A', 'B', {'A':[100,10,1], 'B':[2,5,3]})\n",
    "        253\n",
    "        \n",
    "    You should definitely try to write this in one line.\n",
    "    \"\"\"\n",
    "    return np.dot(voting_dict[sen_a], voting_dict[sen_b])\n",
    "    "
   ]
  },
  {
   "cell_type": "markdown",
   "metadata": {},
   "source": [
    "### Test code for Task #2\n",
    "The following code can be used to test 'policy_compare'"
   ]
  },
  {
   "cell_type": "code",
   "execution_count": 105,
   "metadata": {},
   "outputs": [
    {
     "name": "stdout",
     "output_type": "stream",
     "text": [
      "-2\n",
      "253\n",
      "1\n"
     ]
    }
   ],
   "source": [
    "voting_dict = {'Fox-Epstein':[-1,-1,-1,1],'Ravella':[1,1,1,1]}\n",
    "print(policy_compare('Fox-Epstein','Ravella', voting_dict))\n",
    "print(policy_compare('A', 'B', {'A':[100,10,1], 'B':[2,5,3]}))\n",
    "print(policy_compare('A', 'B', {'A':[1,1,1], 'B':[1,1,-1]}))"
   ]
  },
  {
   "cell_type": "markdown",
   "metadata": {},
   "source": [
    "### Task 3: Most Similar Procedure"
   ]
  },
  {
   "cell_type": "code",
   "execution_count": 106,
   "metadata": {},
   "outputs": [],
   "source": [
    "def most_similar(sen, voting_dict):\n",
    "    \"\"\"\n",
    "    Input: the last name of a senator, and a dictionary mapping senator names\n",
    "           to lists representing their voting records.\n",
    "    Output: the last name of the senator whose political mindset is most\n",
    "            like the input senator (excluding, of course, the input senator\n",
    "            him/herself). Resolve ties arbitrarily.\n",
    "    Example:\n",
    "        >>> vd = {'Klein': [1,1,1], 'Fox-Epstein': [1,-1,0], 'Ravella': [-1,0,0]}\n",
    "        >>> most_similar('Klein', vd)\n",
    "        'Fox-Epstein'\n",
    "        >>> vd == {'Klein': [1,1,1], 'Fox-Epstein': [1,-1,0], 'Ravella': [-1,0,0]}\n",
    "        True\n",
    "        >>> vd = {'a': [1,1,1,0], 'b': [1,-1,0,0], 'c': [-1,0,0,0], 'd': [-1,0,0,1], 'e': [1, 0, 0,0]}\n",
    "        >>> most_similar('c', vd)\n",
    "        'd'\n",
    "\n",
    "    Note that you can (and are encouraged to) re-use your policy_compare procedure.\n",
    "    \"\"\"\n",
    "    # copy dict but remove exisint Senator that we are comparing\n",
    "    # helpful for more consice iteration below\n",
    "    others = voting_dict.copy()\n",
    "    others.pop(sen)\n",
    "    sen_names = others.keys()\n",
    "\n",
    "    # start with the first Senator in the dict without our given Senator\n",
    "    # maintain intermmediate twin with most comparable voting history\n",
    "    twin_name = others.popitem()[0]\n",
    "    twin_score = policy_compare(sen, twin_name, voting_dict)\n",
    "        \n",
    "    # iterate through senators and update the twin upon discovery of a more matched voter.\n",
    "    for name in sen_names:\n",
    "        voting_delta = policy_compare(sen, name, voting_dict)\n",
    "        if (voting_delta > twin_score):\n",
    "            twin_name = name\n",
    "            twin_score = voting_delta\n",
    "        \n",
    "    return twin_name"
   ]
  },
  {
   "cell_type": "markdown",
   "metadata": {},
   "source": [
    "Testing Code"
   ]
  },
  {
   "cell_type": "code",
   "execution_count": 107,
   "metadata": {},
   "outputs": [
    {
     "name": "stdout",
     "output_type": "stream",
     "text": [
      "Fox-Epstein\n",
      "True\n",
      "d\n"
     ]
    }
   ],
   "source": [
    "vd = {'Klein': [1,1,1], 'Fox-Epstein': [1,-1,0], 'Ravella': [-1,0,0]}\n",
    "print(most_similar('Klein', vd))  #Expect output to be 'Fox-Epstein'\n",
    "print(vd == {'Klein': [1,1,1], 'Fox-Epstein': [1,-1,0], 'Ravella': [-1,0,0]} )  #Expected output, 'True'\n",
    "\n",
    "vd = {'a': [1,1,1,0], 'b': [1,-1,0,0], 'c': [-1,0,0,0], 'd': [-1,0,0,1], 'e': [1, 0, 0,0]}\n",
    "print(most_similar('c', vd)) #Expected output, 'd'"
   ]
  },
  {
   "cell_type": "markdown",
   "metadata": {},
   "source": [
    "### Task 4: Least Similar Procedure"
   ]
  },
  {
   "cell_type": "code",
   "execution_count": 108,
   "metadata": {},
   "outputs": [],
   "source": [
    "def least_similar(sen, voting_dict, score_required=False):\n",
    "    \"\"\"\n",
    "    Input: the last name of a senator, and a dictionary mapping senator names\n",
    "           to lists representing their voting records.\n",
    "    Output: the last name of the senator whose political mindset is least like the input\n",
    "            senator.\n",
    "    Example:\n",
    "        >>> vd = {'a': [1,1,1], 'b': [1,-1,0], 'c': [-1,0,0]}\n",
    "        >>> least_similar('a', vd)\n",
    "        'c'\n",
    "        >>> vd == {'a': [1,1,1], 'b': [1,-1,0], 'c': [-1,0,0]}\n",
    "        True\n",
    "        >>> vd = {'a': [-1,0,0], 'b': [1,0,0], 'c': [-1,1,0], 'd': [-1,1,1]}\n",
    "        >>> least_similar('c', vd)\n",
    "        'b'\n",
    "    \"\"\"\n",
    "    # copy dict but remove exisint Senator that we are comparing\n",
    "    # helpful for more consice iteration below\n",
    "    others = voting_dict.copy()\n",
    "    others.pop(sen)\n",
    "    sen_names = others.keys()\n",
    "\n",
    "    # start with the first Senator in the dict without our given Senator\n",
    "    # maintain intermmediate twin with most comparable voting history\n",
    "    twin_name = others.popitem()[0]\n",
    "    twin_score = policy_compare(sen, twin_name, voting_dict)\n",
    "        \n",
    "    # iterate through senators and update the twin upon discovery of a more matched voter.\n",
    "    for name in sen_names:\n",
    "        voting_delta = policy_compare(sen, name, voting_dict)\n",
    "        if (voting_delta < twin_score):\n",
    "            twin_name = name\n",
    "            twin_score = voting_delta\n",
    "        \n",
    "    return (twin_name, twin_score) if score_required else twin_name\n"
   ]
  },
  {
   "cell_type": "code",
   "execution_count": 109,
   "metadata": {},
   "outputs": [
    {
     "name": "stdout",
     "output_type": "stream",
     "text": [
      "c\n",
      "True\n",
      "b\n"
     ]
    }
   ],
   "source": [
    "vd = {'a': [1,1,1], 'b': [1,-1,0], 'c': [-1,0,0]}\n",
    "print(least_similar('a', vd)) #expected output 'c'\n",
    "print( vd == {'a': [1,1,1], 'b': [1,-1,0], 'c': [-1,0,0]} ) #Expected output 'True'\n",
    "\n",
    "vd = {'a': [-1,0,0], 'b': [1,0,0], 'c': [-1,1,0], 'd': [-1,1,1]}\n",
    "print(least_similar('c', vd)) #Expected output 'b'"
   ]
  },
  {
   "cell_type": "markdown",
   "metadata": {},
   "source": [
    "### Task 5: Senators Chafee and Santorum"
   ]
  },
  {
   "cell_type": "code",
   "execution_count": 110,
   "metadata": {},
   "outputs": [
    {
     "name": "stdout",
     "output_type": "stream",
     "text": [
      "Jeffords\n",
      "Feingold\n"
     ]
    }
   ],
   "source": [
    "most_like_chafee = most_similar('Chafee', create_voting_dict(mylist))\n",
    "print(most_like_chafee)\n",
    "\n",
    "least_like_santorum = least_similar('Santorum', create_voting_dict(mylist))\n",
    "print(least_like_santorum)"
   ]
  },
  {
   "cell_type": "markdown",
   "metadata": {},
   "source": [
    "### Task 6: Most Average Democrat"
   ]
  },
  {
   "cell_type": "code",
   "execution_count": 111,
   "metadata": {},
   "outputs": [],
   "source": [
    "import numpy as np\n",
    "\n",
    "def find_average_similarity(sen, sen_set, voting_dict):\n",
    "    \"\"\"\n",
    "    Input: the name of a senator, a set of senator names, and a voting dictionary.\n",
    "    Output: the average dot-product between sen and those in sen_set.\n",
    "    Example:\n",
    "        >>> vd = {'Klein':[1,1,1], 'Fox-Epstein':[1,-1,0], 'Ravella':[-1,0,0], 'Oyakawa':[-1,-1,-1], 'Loery':[0,1,1]}\n",
    "        >>> sens = {'Fox-Epstein','Ravella','Oyakawa','Loery'}\n",
    "        >>> find_average_similarity('Klein', sens, vd)\n",
    "        -0.5\n",
    "        >>> sens == {'Fox-Epstein','Ravella', 'Oyakawa', 'Loery'}\n",
    "        True\n",
    "        >>> vd == {'Klein':[1,1,1], 'Fox-Epstein':[1,-1,0], 'Ravella':[-1,0,0], 'Oyakawa':[-1,-1,-1], 'Loery':[0,1,1]}\n",
    "        True\n",
    "    \"\"\"\n",
    "    n = len(sen_set)\n",
    "    v_sum = 0.0\n",
    "    \n",
    "    for s in sen_set:\n",
    "        v_sum += np.dot(voting_dict[sen], voting_dict[s])\n",
    "        \n",
    "    return v_sum/n\n",
    "        \n"
   ]
  },
  {
   "cell_type": "code",
   "execution_count": 112,
   "metadata": {
    "scrolled": true
   },
   "outputs": [
    {
     "name": "stdout",
     "output_type": "stream",
     "text": [
      "-0.5\n",
      "True\n",
      "True\n"
     ]
    }
   ],
   "source": [
    "#Test Code\n",
    "vd = {'Klein':[1,1,1], 'Fox-Epstein':[1,-1,0], 'Ravella':[-1,0,0], 'Oyakawa':[-1,-1,-1], 'Loery':[0,1,1]}\n",
    "sens = {'Fox-Epstein','Ravella','Oyakawa','Loery'}\n",
    "\n",
    "print(find_average_similarity('Klein', sens, vd) ) \n",
    "# Expected output :   -0.5\n",
    "\n",
    "print(sens == {'Fox-Epstein','Ravella', 'Oyakawa', 'Loery'} ) \n",
    "#Expected output:   True\n",
    "\n",
    "print(vd == {'Klein':[1,1,1], 'Fox-Epstein':[1,-1,0], 'Ravella':[-1,0,0], 'Oyakawa':[-1,-1,-1], 'Loery':[0,1,1]} ) \n",
    "#expected output:   True\\"
   ]
  },
  {
   "cell_type": "code",
   "execution_count": 113,
   "metadata": {},
   "outputs": [
    {
     "name": "stdout",
     "output_type": "stream",
     "text": [
      "('Biden', 34.69047619047619)\n"
     ]
    }
   ],
   "source": [
    "# give the last name (or code that computes the last name)\n",
    "dem_dict = create_voting_dict(mylist, 'D')\n",
    "dem_sen_names = set(dem_dict.keys())\n",
    "name0 = dem_sen_names.pop()\n",
    "score0 = find_average_similarity(name0, dem_sen_names, dem_dict)\n",
    "most_avg_dem = (name0, score0)\n",
    "\n",
    "for dem in dem_sen_names:\n",
    "    score = find_average_similarity(dem, dem_sen_names, dem_dict)\n",
    "    if score > most_avg_dem[1]:\n",
    "        most_avg_dem = (dem, score)\n",
    "\n",
    "print(most_avg_dem)"
   ]
  },
  {
   "cell_type": "markdown",
   "metadata": {},
   "source": [
    "### Task 7: Average Record"
   ]
  },
  {
   "cell_type": "code",
   "execution_count": 114,
   "metadata": {},
   "outputs": [],
   "source": [
    "def find_average_record(sen_set, voting_dict):\n",
    "    \"\"\"\n",
    "    Input: a set of last names, a voting dictionary\n",
    "    Output: a vector containing the average components of the voting records\n",
    "            of the senators in the input set\n",
    "    Example: \n",
    "        >>> voting_dict = {'Klein': [-1,0,1], 'Fox-Epstein': [-1,-1,-1], 'Ravella': [0,0,1]}\n",
    "        >>> senators = {'Fox-Epstein','Ravella'}\n",
    "        >>> find_average_record(senators, voting_dict)\n",
    "        [-0.5, -0.5, 0.0]\n",
    "        >>> voting_dict == {'Klein': [-1,0,1], 'Fox-Epstein': [-1,-1,-1], 'Ravella': [0,0,1]}\n",
    "        True\n",
    "        >>> senators\n",
    "        {'Fox-Epstein','Ravella'}\n",
    "        >>> d = {'c': [-1,-1,0], 'b': [0,1,1], 'a': [0,1,1], 'e': [-1,-1,1], 'd': [-1,1,1]}\n",
    "        >>> find_average_record({'a','c','e'}, d)\n",
    "        [-0.6666666666666666, -0.3333333333333333, 0.6666666666666666]\n",
    "        >>> find_average_record({'a','c','e','b'}, d)\n",
    "        [-0.5, 0.0, 0.75]\n",
    "        >>> find_average_record({'a'}, d)\n",
    "        [0.0, 1.0, 1.0]\n",
    "    \"\"\"        \n",
    "    \n",
    "    voting_list_set = [voting_dict.get(sen) for sen in sen_set]\n",
    "    n = len(sen_set) * 1.0  \n",
    "\n",
    "    return np.sum(voting_list_set, axis=0) / n"
   ]
  },
  {
   "cell_type": "code",
   "execution_count": 115,
   "metadata": {},
   "outputs": [
    {
     "name": "stdout",
     "output_type": "stream",
     "text": [
      "[-0.5 -0.5  0. ]\n"
     ]
    }
   ],
   "source": [
    "#Test your procedure here...\n",
    "#Use the previous tasks descriptions, and their test code to determine what you should extract from the above definition cell.\n",
    "# d = {'c': [-1,-1,0], 'b': [0,1,1], 'a': [0,1,1], 'e': [-1,-1,1], 'd': [-1,1,1]}\n",
    "# find_average_record({'a','c','e'}, d)\n",
    "\n",
    "voting_dict = {'Klein': [-1,0,1], 'Fox-Epstein': [-1,-1,-1], 'Ravella': [0,0,1]}\n",
    "senators = {'Fox-Epstein','Ravella'}\n",
    "print(find_average_record(senators, voting_dict))"
   ]
  },
  {
   "cell_type": "code",
   "execution_count": 116,
   "metadata": {},
   "outputs": [
    {
     "name": "stdout",
     "output_type": "stream",
     "text": [
      "[-0.1627907  -0.23255814  1.          0.8372093   0.97674419 -0.13953488\n",
      " -0.95348837  0.81395349  0.97674419  0.97674419  0.90697674  0.76744186\n",
      "  0.6744186   0.97674419 -0.51162791  0.93023256  0.95348837  0.97674419\n",
      " -0.39534884  0.97674419  1.          1.          1.          0.95348837\n",
      " -0.48837209  1.         -0.3255814  -0.06976744  0.97674419  0.86046512\n",
      "  0.97674419  0.97674419  1.          1.          0.97674419 -0.34883721\n",
      "  0.97674419 -0.48837209  0.23255814  0.88372093  0.44186047  0.90697674\n",
      " -0.90697674  1.          0.90697674 -0.30232558]\n"
     ]
    }
   ],
   "source": [
    "dem_dict = create_voting_dict(mylist, 'D')\n",
    "avg_dem_rec = find_average_record(dem_dict.keys(), dem_dict)\n",
    "print(avg_dem_rec)"
   ]
  },
  {
   "cell_type": "markdown",
   "metadata": {},
   "source": [
    "### Task 8: Bitter Rivals"
   ]
  },
  {
   "cell_type": "code",
   "execution_count": 117,
   "metadata": {},
   "outputs": [],
   "source": [
    "def bitter_rivals(voting_dict):\n",
    "    \"\"\"\n",
    "    Input: a dictionary mapping senator names to lists representing\n",
    "           their voting records\n",
    "    Output: a tuple containing the two senators who most strongly\n",
    "            disagree with one another.\n",
    "    Example: \n",
    "        >>> voting_dict = {'Klein':[-1,0,1], 'Fox-Epstein':[-1,-1,-1], 'Ravella':[0,0,1], 'Oyakawa':[1,1,1], 'Loery':[1,1,0]}\n",
    "        >>> br = bitter_rivals(voting_dict)\n",
    "        >>> br == ('Fox-Epstein', 'Oyakawa') or br == ('Oyakawa', 'Fox-Epstein')\n",
    "        True\n",
    "    \"\"\"\n",
    "    \n",
    "    # LinAlg implementation\n",
    "    \n",
    "    # data fetch\n",
    "    rival_name_list = list(voting_dict.keys())\n",
    "    voting_matrix = np.matrix(list(voting_dict.values()))  \n",
    "        \n",
    "    # compute a matrix lookup for senator comparison ratings\n",
    "    rival_matrix = np.dot(voting_matrix, np.transpose(voting_matrix))\n",
    "        \n",
    "    # find the index of the minimals comparison ratings\n",
    "    # , which corresponds to the 2 most differing senators\n",
    "    rival_indices_proxy = np.where(rival_matrix == rival_matrix.min())\n",
    "    rival_indices = next(zip(*rival_indices_proxy))\\\n",
    "    \n",
    "    rivals = rival_name_list[rival_indices[0]], rival_name_list[rival_indices[1]]\n",
    "    return rivals\n",
    "    \n",
    "\n",
    "    # quick python implementation:\n",
    "        \n",
    "#     sen_rival_scores = [(sen, least_similar(sen, voting_dict, True)) for sen in voting_dict.keys()]        \n",
    "#     bitter_rivals = min(sen_rival_scores, key=lambda tup: tup[1][1])\n",
    "#     return (bitter_rivals[0], bitter_rivals[1][0])\n",
    "    \n"
   ]
  },
  {
   "cell_type": "code",
   "execution_count": 118,
   "metadata": {},
   "outputs": [
    {
     "data": {
      "text/plain": [
       "True"
      ]
     },
     "execution_count": 118,
     "metadata": {},
     "output_type": "execute_result"
    }
   ],
   "source": [
    "#Again, test your 'bitter_rivals' procedure here!\n",
    "voting_dict = {'Klein':[-1,0,1], 'Fox-Epstein':[-1,-1,-1], 'Ravella':[0,0,1], 'Oyakawa':[1,1,1], 'Loery':[1,1,0]}\n",
    "br = bitter_rivals(voting_dict)\n",
    "br == ('Fox-Epstein', 'Oyakawa') or br == ('Oyakawa', 'Fox-Epstein')"
   ]
  },
  {
   "cell_type": "markdown",
   "metadata": {},
   "source": [
    "### Task 9: Open Ended-Study\n",
    "Create a separate notebook file that answers the open-ended study questions posed in the lab handout.\n",
    "You should turn in BOTH the code, and the explanations of your answers (i.e. more than just 'yes', 'no', and names!)\n",
    "\n",
    "  1. Who is most R/D\n",
    "    1. Senator? \n",
    "    2. State?\n",
    "  2. Is McCain a Maverick?\n",
    "  3. Is Obama an Extremist?\n",
    "  4. Who has most opponents (based on some threshold)?"
   ]
  },
  {
   "cell_type": "markdown",
   "metadata": {},
   "source": [
    "#### Analysis: Python Prep"
   ]
  },
  {
   "cell_type": "code",
   "execution_count": 119,
   "metadata": {},
   "outputs": [],
   "source": [
    "# allow for voting dictionary construct to \n",
    "# first seperate on Party affiliation\n",
    "def create_verbose_voting_dict(strlist, party_flag=None):\n",
    "    voting_dict = dict(map(lambda sen_str : parse_senator(*[sen_str, party_flag, True]), strlist))\n",
    "    voting_dict.pop(None, None)\n",
    "    return voting_dict\n",
    "\n",
    "# for cleaner code analysis later on\n",
    "def print_div():\n",
    "    print(\"--------------\\n\")\n",
    "       \n",
    "# prints the Senators ID alongside their \n",
    "# similarity to the given voting dict\n",
    "def print_senator_with_score(sen_key, voting_dict):\n",
    "    print(sen_key[0] + \" Score: \" + str(find_average_similarity(sen_key, voting_dict.keys(), voting_dict)))\n",
    "\n",
    "repubs = create_verbose_voting_dict(mylist, 'R')\n",
    "dems = create_verbose_voting_dict(mylist, 'D')\n",
    "\n",
    "# entire Senate (assuming 2 parties)\n",
    "voting_dict = dems.copy()\n",
    "voting_dict.update(repubs.copy())"
   ]
  },
  {
   "cell_type": "markdown",
   "metadata": {},
   "source": [
    "#### Derivation of the most Republican/Democratic senators\n",
    "When considering which Senator illustrates the quintessential (a) Republican or (b) Democrat, we must first establish a basis for qauntifying the average party  affiliate.  We do so by deriving the average voting record for the party, then determining which Senator amongst the party has the most comparable voting record to the parties established average:"
   ]
  },
  {
   "cell_type": "code",
   "execution_count": 120,
   "metadata": {},
   "outputs": [
    {
     "name": "stdout",
     "output_type": "stream",
     "text": [
      "Average Dem: \n",
      "Biden Score: 26.051020408163264\n",
      "--------------\n",
      "\n",
      "Average Rep: \n",
      "Allen Score: 31.459183673469386\n"
     ]
    }
   ],
   "source": [
    "def averge_party_member(party_dict):\n",
    "    \"\"\"\n",
    "    Input: a dictionary mapping senator from a target political\n",
    "           party names to lists representing their voting records.\n",
    "    Output: ID of the senator of the which is most similar to the\n",
    "            average amongst the target party.\n",
    "    \"\"\"\n",
    "    \n",
    "    # dummy senator ID to reresent the party's average voting record\n",
    "    key = ('party', 'USA')\n",
    "    \n",
    "    # persist to dict\n",
    "    avg_rec = find_average_record(party_dict.keys(), party_dict)\n",
    "    dict_proxy = party_dict.copy()\n",
    "    dict_proxy.update([(key, avg_rec)])\n",
    "    \n",
    "    # find Senator whose voting record is most similar \n",
    "    # to the party's average voting record identified\n",
    "    return most_similar(key, dict_proxy)\n",
    " \n",
    "avg_dem = averge_party_member(dems)\n",
    "print(\"Average Dem: \")\n",
    "\n",
    "# display avg dem relative to all of Senate\n",
    "print_senator_with_score(avg_dem, voting_dict)\n",
    "\n",
    "print_div()\n",
    "\n",
    "avg_rep = averge_party_member(repubs)\n",
    "print(\"Average Rep: \")\n",
    "\n",
    "# display avg repub relative to all of Senate\n",
    "print_senator_with_score(avg_rep, voting_dict)"
   ]
  },
  {
   "cell_type": "markdown",
   "metadata": {},
   "source": [
    "Given the results above we can reasonably conclude that Biden illustrates the most _Democratic_ senator, and Allen is the best representative for the most _Republican_ senator."
   ]
  },
  {
   "cell_type": "markdown",
   "metadata": {},
   "source": [
    "#### Derivation of the most Republican/Democratic states\n",
    "In a similar manner, if we group the dictionary to lookup via state abbreviations as opposed to senator names, then simply lookup which state's representative voting record is most similar to the most average record for each party, we can determine which states most appropriately represent _Republican_-ness and _Democratic_-ness."
   ]
  },
  {
   "cell_type": "code",
   "execution_count": 121,
   "metadata": {},
   "outputs": [
    {
     "name": "stdout",
     "output_type": "stream",
     "text": [
      "Most Dem State: ('MD', 23.82)\n",
      "Most Rep State: ('MO', 31.09)\n"
     ]
    }
   ],
   "source": [
    "# constructing a dictionary of states to their \n",
    "# corresponding average voting record\n",
    "states = dict()\n",
    "for sen in voting_dict.keys():\n",
    "    state_name = sen[1]\n",
    "    votes = voting_dict[sen]\n",
    "    \n",
    "    # appends an additional senators\n",
    "    # voting record to this present state.\n",
    "    # to later be averaged for representing\n",
    "    # the specific states \"vote\" \n",
    "    if state_name in states:\n",
    "        state = states[state_name]\n",
    "        state.append(votes)\n",
    "    else:\n",
    "        states[state_name] = [votes]\n",
    "\n",
    "# averaging the votes\n",
    "states = {k: np.mean(v, axis=0) for k, v in states.items()}\n",
    "\n",
    "\n",
    "def averge_state_helper(state_dict, avg_party_member):\n",
    "    \"\"\"\n",
    "    Input: a dictionary mapping states from a target political\n",
    "           party names to lists representing their voting records.\n",
    "           , average senator from target party\n",
    "    Output: tuple with the ID of the state of the which is most similar to the\n",
    "            average amongst the target party, and the states agreeance score \n",
    "            relative to the target party\n",
    "    \"\"\"\n",
    "    # adds the average as \"state\" to the voting dict copy \n",
    "    dict_proxy = state_dict.copy()\n",
    "    dict_proxy.update([avg_party_member])\n",
    "    target_state = most_similar(avg_party_member[0], dict_proxy)\n",
    "    \n",
    "    # perist the state's voting score relative to all other states\n",
    "    states_score = find_average_similarity(target_state, state_dict.keys(), state_dict)\n",
    "    return (target_state, states_score)\n",
    "\n",
    "print(\"Most Dem State: \" + str(averge_state_helper(states, (avg_dem, dems[avg_dem]))))\n",
    "print(\"Most Rep State: \" + str(averge_state_helper(states, (avg_rep, repubs[avg_rep]))))"
   ]
  },
  {
   "cell_type": "markdown",
   "metadata": {},
   "source": [
    "Given the results above we can reasonably conclude that Maryland (MD) illustrates the most _Democratic_ state, while Missouri (MO) is the best representative for the most _Republican_ leaning state.  When we compare the similarities between the scores of MD (23.82) and Biden (26.051), to that of MO (31.09) and Allen (31.459) we can further reinforce the aforementioned conclusions."
   ]
  },
  {
   "cell_type": "markdown",
   "metadata": {},
   "source": [
    "#### Is Obama an Extremist?  \n",
    "In order to determine if Obama is deserving of such a title, we must determine his position relative to the Republican Party.  This first requires us to determine which Democratic senators represent the largest gap in agreeance amongst all Democrats, also known as the most bitter Democratic rivals. Secondly, we must then compute and analyze how each of those three senators compare with their rival party:"
   ]
  },
  {
   "cell_type": "code",
   "execution_count": 122,
   "metadata": {},
   "outputs": [
    {
     "name": "stdout",
     "output_type": "stream",
     "text": [
      "Extreme Dems:  (('Feingold', 'WI'), ('Nelson2', 'NE'))\n",
      "Obama Score: 21.071428571428573\n",
      "Feingold Score: 5.678571428571429\n",
      "Nelson2 Score: 38.107142857142854\n"
     ]
    }
   ],
   "source": [
    "d_rivals = bitter_rivals(dems)\n",
    "rep_plus_rival = repubs.copy()\n",
    "obama = ('Obama', 'IL')\n",
    "\n",
    "print(\"Extreme Dems: \", d_rivals)\n",
    "\n",
    "for sen in [obama, *d_rivals]:\n",
    "    # target senator must be present in dict to find score \n",
    "    rep_plus_rival.update([(sen, voting_dict[sen])])\n",
    "    print_senator_with_score(sen, rep_plus_rival)\n",
    "    # remove the singular opponent from the party\n",
    "    rep_plus_rival.pop(sen)"
   ]
  },
  {
   "cell_type": "markdown",
   "metadata": {},
   "source": [
    "As discovered above, the most differing Democrats are Senators Feingold and Nelson2.  In analyzing how they compare relative to Obama from the perspective of the Republican Party,  it's quite apparent that Feingold presents a much greater opposing voting record than Obama does.  In fact, Obama appears to represent the stereortypical Democratic from the Republicans purview given his agreeance score with them bisects that of rivaling Democrats Feingold and Nelson2 (who arguably is more Republican than Democratic in vote)."
   ]
  },
  {
   "cell_type": "markdown",
   "metadata": {},
   "source": [
    "#### Is McCain an Eccentric?\n",
    "In order to determine if Obama is deserving of such a title, we must determine his position relative to the Democratic Party.  This first requires us to determine which Republican senators represent the largest gap in agreeance amongst all Democrats, also known as the most bitter Republican rivals. Secondly, we must then compute and analyze how each of those three senators compare with their rival party:"
   ]
  },
  {
   "cell_type": "code",
   "execution_count": 123,
   "metadata": {},
   "outputs": [
    {
     "name": "stdout",
     "output_type": "stream",
     "text": [
      "Extreme Reps:  (('Chafee', 'RI'), ('Coburn', 'OK'))\n",
      "McCain Score: 14.704545454545455\n",
      "Chafee Score: 29.204545454545453\n",
      "Coburn Score: 11.727272727272727\n"
     ]
    }
   ],
   "source": [
    "r_rivals = bitter_rivals(repubs)\n",
    "dem_plus_rival = dems.copy()\n",
    "mccain = ('McCain', 'AZ')\n",
    "\n",
    "print(\"Extreme Reps: \", r_rivals)\n",
    "\n",
    "for sen in [mccain, *r_rivals]:\n",
    "    # target senator must be present in dict to find score \n",
    "    dem_plus_rival.update([(sen, voting_dict[sen])])\n",
    "    print_senator_with_score(sen, dem_plus_rival)\n",
    "    # remove the singular opponent from the party\n",
    "    dem_plus_rival.pop(sen)"
   ]
  },
  {
   "cell_type": "markdown",
   "metadata": {},
   "source": [
    "As discovered above, the most differing Republican senators are Chafee and Coburn. In analyzing how they compare relative to McCain from the perspective of the Democratic Party we can conclude that McCain presents an extreme much more comparable to Cobourn (Democrats most extreme opponen) than Chafee does, whom represents a much more modest dissent.  Thus we can conclude that McCain can be reasonably described as a maverick of Republican ideals from the perspective of opposition."
   ]
  },
  {
   "cell_type": "markdown",
   "metadata": {},
   "source": [
    "#### Extremist Sprectrum\n",
    "When determining the number of political opponents based on some pre-defined threshold, one may first come upon the simple metric of comparing the minimal agreed votes between senators to gauge their rivalry, which we can easily compute by taking the dot product of the Senate's voting matrix, along with it's own transpose.  "
   ]
  },
  {
   "cell_type": "code",
   "execution_count": 124,
   "metadata": {},
   "outputs": [
    {
     "name": "stdout",
     "output_type": "stream",
     "text": [
      "Most rivaled at least 0 agreed votes: (('Feingold', 'WI'), 4)\n",
      "Most rivaled at least 5 agreed votes: (('Feingold', 'WI'), 29)\n",
      "Most rivaled at least 10 agreed votes: (('Feingold', 'WI'), 51)\n",
      "Most rivaled at least 15 agreed votes: (('Feingold', 'WI'), 57)\n",
      "Most rivaled at least 20 agreed votes: (('Feingold', 'WI'), 62)\n",
      "Most rivaled at least 25 agreed votes: (('Feingold', 'WI'), 72)\n",
      "Most rivaled at least 30 agreed votes: (('Coburn', 'OK'), 94)\n",
      "Most rivaled at least 35 agreed votes: (('Lieberman', 'CT'), 97)\n",
      "Most rivaled at least 40 agreed votes: (('Lieberman', 'CT'), 98)\n",
      "Most rivaled at least 45 agreed votes: (('Akaka', 'HI'), 98)\n"
     ]
    }
   ],
   "source": [
    "def opponents(threshold, voting_dict):\n",
    "    \"\"\"\n",
    "    Input: comparing threshold (represents minimal similar votes)\n",
    "           , voting dictionary\n",
    "    Output: tuple with the ID of the senator of the which has \n",
    "            the most number of senators whom ball below the specified\n",
    "            threshold, and the number aforementioned senators\n",
    "    \"\"\"\n",
    "    ordered_sen_names = list(voting_dict.keys())\n",
    "    most_hated = (ordered_sen_names[0], 0)\n",
    "    voting_matrix = np.matrix(list(voting_dict.values())) \n",
    "    rival_matrix = np.dot(voting_matrix, np.transpose(voting_matrix))\n",
    "\n",
    "    for name, sen in zip(ordered_sen_names, rival_matrix):\n",
    "        opps = np.where(sen < threshold)\n",
    "        n_opps = len(opps[0])\n",
    "        if n_opps > most_hated[1]:\n",
    "            most_hated = (name, n_opps)\n",
    "    return most_hated\n",
    "\n",
    "for i in range(0, 50, 5):\n",
    "    print(\"Most rivaled at least\", i, \"agreed votes:\", opponents(i, voting_dict))"
   ]
  },
  {
   "cell_type": "markdown",
   "metadata": {},
   "source": [
    "In the above snippet, we're logging the particular senator who has the greatest number of senators to have agreed with them no less than X times where X is in the range of increments of 5 from \\[0 to 50\\).  Surprisingly, Senator Feingold has actively disagreed with four senators more than they've voted in agreeance.  Feingold maintains this title through having agreed with the greatest number of senators on no less than 25 occasions.  Given the 98 votes sampled, we can determine that such a threshold (25 minimal agreeances) correspondes to an overall agreeance range of:\n",
    "  ```math\n",
    "  25.5% (= (25 agreements + 73 pass) / 98 votes) to\n",
    "  62.2% (= (61 agreements + 36 disagreements + 1 pass) / 98 votes) \n",
    "  ```\n",
    "  \n",
    "From the specified number of opponents which satisfy thris threshold for Feingold, 72, it's safe to conclude that, within the scope of these samples votes, Feingold has ruffled the feathers of nearly 72\\% the Senate (their party inclusive!).  However, right up Feingold's nose at the 31\\% - 66\\% agreeance range is Senator Coburn.  Coburn is also considered to be the most extremist of the Republicans.  With such a slight range shift causing such a drastic increase in the total number of enemies (94 senators), it's moreso likely Coburn has stepped on more toes than Feingold.  Given our defined threshold above, it's safe to conclude that Senator Coburn has the largest volume of political opponents (which is guaranteed to include a large portion of their very own party).\n"
   ]
  },
  {
   "cell_type": "code",
   "execution_count": null,
   "metadata": {},
   "outputs": [],
   "source": []
  }
 ],
 "metadata": {
  "kernelspec": {
   "display_name": "Python 3",
   "language": "python",
   "name": "python3"
  },
  "language_info": {
   "codemirror_mode": {
    "name": "ipython",
    "version": 3
   },
   "file_extension": ".py",
   "mimetype": "text/x-python",
   "name": "python",
   "nbconvert_exporter": "python",
   "pygments_lexer": "ipython3",
   "version": "3.6.5"
  }
 },
 "nbformat": 4,
 "nbformat_minor": 2
}
