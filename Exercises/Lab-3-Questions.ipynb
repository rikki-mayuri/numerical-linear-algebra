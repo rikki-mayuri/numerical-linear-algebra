{
 "cells": [
  {
   "cell_type": "markdown",
   "metadata": {},
   "source": [
    "### Part 4 - Questions\n",
    "1) Display and describe the centroid (the image, not the matrix). \n",
    "\n",
    "    a) Are there any features that clearly come from one of the contributing photos? Describe them, and identify their source photos.\n",
    "\n",
    "    b) Display the source image (beside/below the centroid).\n",
    "    \n",
    "    c) Explain why you think (due to the math/process) those features are particularly noticeable.\n",
    "\n",
    "2) Describe how subtracting the centroid from all the images changed them (i.e., what's different between the base image and the centered image).\n",
    "\n",
    "    a) Display an original and a centered image next to each other (below is ok)"
   ]
  },
  {
   "cell_type": "code",
   "execution_count": null,
   "metadata": {},
   "outputs": [],
   "source": []
  },
  {
   "cell_type": "markdown",
   "metadata": {},
   "source": [
    "### Part 5 - Questions\n",
    "\n",
    "3) We took the SVD of all the photos combined...\n",
    "    \n",
    "    a) State the size of the three SVD outputs.\n",
    "    \n",
    "    b) What does one COLUMN of \"U\" represent for this problem?\n",
    "    \n",
    "    c) What does one ROW of \"V\" represent for this problem?\n",
    "    \n",
    "4) The first task asked you to unroll, then combine all the photos into one matrix. Explain why we didn't take the SVD of a single photo (which was already a matrix!). Your above answers may help you understand this. \n",
    "\n",
    "5) Which of the above matrices could be seen as basis-images? Plot the best \"basis image\", based on your decomposition. Describe any interesting features you see."
   ]
  },
  {
   "cell_type": "code",
   "execution_count": null,
   "metadata": {},
   "outputs": [],
   "source": []
  },
  {
   "cell_type": "code",
   "execution_count": null,
   "metadata": {},
   "outputs": [],
   "source": []
  }
 ],
 "metadata": {
  "kernelspec": {
   "display_name": "Python 3",
   "language": "python",
   "name": "python3"
  },
  "language_info": {
   "codemirror_mode": {
    "name": "ipython",
    "version": 3
   },
   "file_extension": ".py",
   "mimetype": "text/x-python",
   "name": "python",
   "nbconvert_exporter": "python",
   "pygments_lexer": "ipython3",
   "version": "3.6.5"
  }
 },
 "nbformat": 4,
 "nbformat_minor": 2
}
