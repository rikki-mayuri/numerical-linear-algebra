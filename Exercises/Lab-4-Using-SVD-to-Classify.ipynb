{
 "cells": [
  {
   "cell_type": "markdown",
   "metadata": {},
   "source": [
    "### Pre-Lab\n",
    "Either (a) export (then import) your data structures from Lab 2 & 3, or copy the major construction/development code into the below code-block. You'll need at least your 10-dimensional representation of the photos, you may want your entire SVD for experimental purposes. "
   ]
  },
  {
   "cell_type": "code",
   "execution_count": null,
   "metadata": {
    "collapsed": true
   },
   "outputs": [],
   "source": []
  },
  {
   "cell_type": "markdown",
   "metadata": {},
   "source": [
    "## Pre-Lab 2\n",
    "This chunk of code establishes a few test matrices for below."
   ]
  },
  {
   "cell_type": "code",
   "execution_count": 10,
   "metadata": {},
   "outputs": [
    {
     "name": "stdout",
     "output_type": "stream",
     "text": [
      "[[ 0.70710678  0.57735027]\n",
      " [ 0.70710678 -0.57735027]\n",
      " [ 0.          0.57735027]] \n",
      " Shape of test_m: (3, 2)\n",
      "[10 20 30] \n",
      " Shape of test_x: (3,)\n"
     ]
    }
   ],
   "source": [
    "import numpy as np\n",
    "#from scipy.sparse import dok_matrix\n",
    "from math import sqrt\n",
    "M_f = {(0,0):1/sqrt(2) , (1,0):1/sqrt(2) , (0,1):1/sqrt(3), (1,1):-1/sqrt(3), (2,1):1/sqrt(3)}\n",
    "test_m = np.zeros((3,2))\n",
    "for key, val in M_f.items():\n",
    "    test_m[key]=val\n",
    "print(test_m, '\\n Shape of test_m:', test_m.shape)\n",
    "#test_M = np.array(({0,1,2},{0,1}), M_f)\n",
    "test_x = np.array([10,20,30])\n",
    "print(test_x, '\\n Shape of test_x:', test_x.shape)"
   ]
  },
  {
   "cell_type": "markdown",
   "metadata": {},
   "source": [
    "### Part 6 - Projections\n",
    "Complete each of the function definitions below. Be careful to read the specifications both for input AND output!"
   ]
  },
  {
   "cell_type": "markdown",
   "metadata": {},
   "source": [
    "#### Task 6.1"
   ]
  },
  {
   "cell_type": "code",
   "execution_count": 10,
   "metadata": {
    "collapsed": true
   },
   "outputs": [],
   "source": [
    "def projected_representation(M, x):\n",
    "    '''\n",
    "    Input:\n",
    "        - M: a matrix with orthonormal rows with M.D[1] == x.D\n",
    "        - x: a vector\n",
    "    Output:\n",
    "        - the projection of x onto the row-space of M\n",
    "    Examples:\n",
    "        >>> from vecutil import list2vec\n",
    "        >>> from matutil import listlist2mat\n",
    "        >>> x = list2vec([1, 2, 3])\n",
    "        >>> M = listlist2mat([[1, 0, 0], [0, 1, 0]])\n",
    "        >>> projected_representation(M, x)\n",
    "        Vec({0, 1},{0: 1, 1: 2})\n",
    "        >>> M = listlist2mat([[3/5, 1/5, 1/5], [0, 2/3, 1/3]])\n",
    "        >>> projected_representation(M, x)\n",
    "        Vec({0, 1},{0: 1.6, 1: 2.333333333333333})\n",
    "    '''\n",
    "    pass"
   ]
  },
  {
   "cell_type": "code",
   "execution_count": 14,
   "metadata": {
    "collapsed": true
   },
   "outputs": [],
   "source": [
    "#Put your code here to test the function.\n",
    "\n",
    "#Applying projected_representation to 'test_m' and 'test_x' should return:\n",
    "# [21.213203435596423, 11.547005383792516]"
   ]
  },
  {
   "cell_type": "markdown",
   "metadata": {},
   "source": [
    "#### Task 6.2"
   ]
  },
  {
   "cell_type": "code",
   "execution_count": 11,
   "metadata": {
    "collapsed": true
   },
   "outputs": [],
   "source": [
    "def projection_length_squared(M, x):\n",
    "    '''\n",
    "    Input:\n",
    "        - M: matrix with orthonormal rows with M.D[1] == x.D\n",
    "        - x: vector\n",
    "    Output:\n",
    "        - the square of the norm of the projection of x into the\n",
    "          row-space of M\n",
    "    Example:\n",
    "        >>> from vecutil import list2vec\n",
    "        >>> from matutil import listlist2mat\n",
    "        >>> x = list2vec([1, 2, 3])\n",
    "        >>> M = listlist2mat([[1, 0, 0], [0, 1, 0]])\n",
    "        >>> projection_length_squared(M, x)\n",
    "        5\n",
    "        >>> M = listlist2mat([[3/5, 1/5, 1/5], [0, 2/3, 1/3]])\n",
    "        >>> projection_length_squared(M, x)\n",
    "        5.644424691358024\n",
    "    '''\n",
    "    pass"
   ]
  },
  {
   "cell_type": "code",
   "execution_count": 12,
   "metadata": {
    "collapsed": true
   },
   "outputs": [],
   "source": [
    "#Put your test code here (there's an example in the stencil also).\n",
    "#Calling 'projection_length_Squared(test_x, test_m)' should return: 583.33333333333"
   ]
  },
  {
   "cell_type": "markdown",
   "metadata": {},
   "source": [
    "### Part 7 - Distances\n",
    "#### Task 7.1\n",
    "Complete the function definition below to find distances from a vector to a sub-space."
   ]
  },
  {
   "cell_type": "code",
   "execution_count": 12,
   "metadata": {
    "collapsed": true
   },
   "outputs": [],
   "source": [
    "def distance_squared(M, x):\n",
    "    '''\n",
    "    Input:\n",
    "        - M: matrix with orthonormal rows with M.D[1] == x.D\n",
    "        - x: vector\n",
    "    Output:\n",
    "        - the square of the distance from x to the row-space of M\n",
    "    Example:\n",
    "        >>> from vecutil import list2vec\n",
    "        >>> from matutil import listlist2mat\n",
    "        >>> x = list2vec([1, 2, 3])\n",
    "        >>> M = listlist2mat([[1, 0, 0], [0, 1, 0]])\n",
    "        >>> distance_squared(M, x)\n",
    "        9\n",
    "        >>> M = listlist2mat([[3/5, 1/5, 1/5], [0, 2/3, 1/3]])\n",
    "        >>> distance_squared(M, x)\n",
    "        8.355575308641976\n",
    "    '''\n",
    "    pass"
   ]
  },
  {
   "cell_type": "code",
   "execution_count": 13,
   "metadata": {
    "collapsed": true
   },
   "outputs": [],
   "source": [
    "#Testing code here!\n",
    "# 'distance_squared(test_x,test_m)' should return 816.66666666667"
   ]
  },
  {
   "cell_type": "markdown",
   "metadata": {},
   "source": [
    "#### Task 7.2 Using Distances\n",
    "Compute the squared distance of your centered faces to the 10-dimensional subspace you specified in **Lab 3**"
   ]
  },
  {
   "cell_type": "code",
   "execution_count": 15,
   "metadata": {
    "collapsed": true
   },
   "outputs": [],
   "source": [
    "#Put your code here!\n",
    "distances_to_subspace_training = list(...)"
   ]
  },
  {
   "cell_type": "markdown",
   "metadata": {},
   "source": [
    "#### Task 7.3\n",
    "(Question) Explain why these are not zero. (Hint: If you got all zeros, you did this wrong!)"
   ]
  },
  {
   "cell_type": "code",
   "execution_count": null,
   "metadata": {
    "collapsed": true
   },
   "outputs": [],
   "source": []
  },
  {
   "cell_type": "markdown",
   "metadata": {},
   "source": [
    "#### Task 7.4\n",
    "Load in one of the unclassified sets of images. Either the caltech set, or the data-set from coding the matrix. \n",
    "The tricky part is that you will need to ALSO do some resizing again. You have two choices really:\n",
    "\n",
    "A) Resize all the unclassified images to match your training data size\n",
    "\n",
    "B) Go back and resize all the training data to match the test-data size, then recompute the 10-dimensional basis (SVD).\n",
    "\n",
    "**_IF_** You properly coded your functions above, it shouldn't matter which of these approaches you take, so long as the images have similar dimensions."
   ]
  },
  {
   "cell_type": "code",
   "execution_count": 16,
   "metadata": {
    "collapsed": true
   },
   "outputs": [],
   "source": [
    "#Put your code here. \n",
    "#You should probably include some print/show statements to make sure things worked right! \n",
    "#You might need to move your data-sets around, or properly reference their folder.\n",
    "#I'd suggest NOT just blindly importing the entire data-set...there are lots of images. \n",
    "#Instead, test it with a limited iteration loop first!"
   ]
  },
  {
   "cell_type": "markdown",
   "metadata": {},
   "source": [
    "#### Task 7.5\n",
    "Center the test images (i.e. subtract off your 'average face vector')\n",
    "Compute the squared distance between the centered test image and the 10-dimensional subspace of faces"
   ]
  },
  {
   "cell_type": "code",
   "execution_count": 17,
   "metadata": {
    "collapsed": true
   },
   "outputs": [],
   "source": [
    "#Your code (and tests) here.\n",
    "distances_to_subspace_test = list(...)"
   ]
  },
  {
   "cell_type": "markdown",
   "metadata": {},
   "source": [
    "#### Task 7.6\n",
    "(Question) Explain in your own words (with complete sentences) what the distances you computed in **Task 7.5** tell you about the test images."
   ]
  },
  {
   "cell_type": "code",
   "execution_count": null,
   "metadata": {
    "collapsed": true
   },
   "outputs": [],
   "source": []
  },
  {
   "cell_type": "markdown",
   "metadata": {},
   "source": [
    "### Part 8 - Actually Classify Images\n",
    "#### Task 8.1\n",
    "(Question) Based on your response to **Task 7.6** and the results of **Task 7.5** make a hypothesis (including a careful explanation of the process) about how you could classify each test-image as: \"Face\" or \"Not Face\" -- Note, it's ok if your hypothesis is WRONG. Just explain why it ended up being wrong. \n",
    "\n",
    "Provide at least one example of each, based on your hypothesis."
   ]
  },
  {
   "cell_type": "code",
   "execution_count": null,
   "metadata": {
    "collapsed": true
   },
   "outputs": [],
   "source": []
  },
  {
   "cell_type": "code",
   "execution_count": 18,
   "metadata": {
    "collapsed": true
   },
   "outputs": [],
   "source": [
    "# Put your code here to show the examples and any additional analysis you did to get to your written (in mark-down) answer above.\n",
    "classified_as_faces = set(...) # of dictionary keys"
   ]
  },
  {
   "cell_type": "markdown",
   "metadata": {},
   "source": [
    "#### Task 8.2\n",
    "Determine the best threshold value for cutting off between \"Face\" and \"Not Face\" ... look at several images on either side. Explain how you arrived at the threshold value."
   ]
  },
  {
   "cell_type": "code",
   "execution_count": null,
   "metadata": {
    "collapsed": true
   },
   "outputs": [],
   "source": [
    "threshold_value = ..."
   ]
  },
  {
   "cell_type": "markdown",
   "metadata": {},
   "source": [
    "#### Task 8.3\n",
    "Evaluate your original hypothesis from this section, and the investigation from **Task 8.2**. Does your hypothesis need revised? Would it work better if you used a flexible cut-off? (i.e. not a single value?)"
   ]
  },
  {
   "cell_type": "code",
   "execution_count": null,
   "metadata": {
    "collapsed": true
   },
   "outputs": [],
   "source": [
    "classified_as_faces_revised = set(...) # of dictionary keys"
   ]
  },
  {
   "cell_type": "markdown",
   "metadata": {},
   "source": [
    "### Part 9 - Projections in Spaces"
   ]
  },
  {
   "cell_type": "markdown",
   "metadata": {},
   "source": [
    "Now you'll look at some actual projections of the images back into the subspace (i.e. the reduced image space).\n",
    "#### Task 9.1\n",
    "Complete the following function"
   ]
  },
  {
   "cell_type": "code",
   "execution_count": 19,
   "metadata": {
    "collapsed": true
   },
   "outputs": [],
   "source": [
    "#This is the \"transpose\" of what was specified in the text.\n",
    "#Follow the spec given here.\n",
    "def project(M, x):\n",
    "    '''\n",
    "    Input:\n",
    "        - M: an orthogonal matrix with row-space equal to x's domain\n",
    "        - x: a Vec\n",
    "    Output:\n",
    "        - the projection of x into the column-space of M\n",
    "    Example:\n",
    "        >>> from vecutil import list2vec\n",
    "        >>> from matutil import listlist2mat\n",
    "        >>> x = list2vec([1, 2, 3])\n",
    "        >>> M = listlist2mat([[1, 0], [0, 1], [0, 0]])\n",
    "        >>> project(M, x)\n",
    "        Vec({0, 1, 2},{0: 1, 1: 2, 2: 0})\n",
    "        >>> M = listlist2mat([[3/5, 0], [1/5, 2/3], [1/5, 1/3]])\n",
    "        >>> project(M, x)\n",
    "        Vec({0, 1, 2},{0: 0.96, 1: 1.8755555555555554, 2: 1.0977777777777777})\n",
    "    '''\n",
    "    pass"
   ]
  },
  {
   "cell_type": "markdown",
   "metadata": {},
   "source": [
    "#### Task 9.2\n",
    "Compute and display the projection of several of the original training faces. Show the projection and the original image side-by-side (or after each other if you are lazy)."
   ]
  },
  {
   "cell_type": "code",
   "execution_count": 20,
   "metadata": {
    "collapsed": true
   },
   "outputs": [],
   "source": [
    "#Code to find the projection.\n",
    "\n",
    "#Code to display the images"
   ]
  },
  {
   "cell_type": "markdown",
   "metadata": {},
   "source": [
    "#### Task 9.3\n",
    "(Question) Comment on the similiarity and differences. Where they what you expected?"
   ]
  },
  {
   "cell_type": "code",
   "execution_count": null,
   "metadata": {
    "collapsed": true
   },
   "outputs": [],
   "source": []
  },
  {
   "cell_type": "markdown",
   "metadata": {},
   "source": [
    "#### Task 9.4\n",
    "Display the projection of two non-face images, and their original images."
   ]
  },
  {
   "cell_type": "code",
   "execution_count": 21,
   "metadata": {
    "collapsed": true
   },
   "outputs": [],
   "source": [
    "#Code for projection and display of non-face 1"
   ]
  },
  {
   "cell_type": "code",
   "execution_count": 22,
   "metadata": {
    "collapsed": true
   },
   "outputs": [],
   "source": [
    "#Code for projection and display of non-face 2"
   ]
  },
  {
   "cell_type": "markdown",
   "metadata": {},
   "source": [
    "#### Task 9.5\n",
    "(Question) Do the projections resemble a face? Do they resemble something else? Explain what is going on here..."
   ]
  },
  {
   "cell_type": "code",
   "execution_count": null,
   "metadata": {
    "collapsed": true
   },
   "outputs": [],
   "source": []
  },
  {
   "cell_type": "code",
   "execution_count": null,
   "metadata": {
    "collapsed": true
   },
   "outputs": [],
   "source": []
  }
 ],
 "metadata": {
  "kernelspec": {
   "display_name": "Python 3",
   "language": "python",
   "name": "python3"
  },
  "language_info": {
   "codemirror_mode": {
    "name": "ipython",
    "version": 3
   },
   "file_extension": ".py",
   "mimetype": "text/x-python",
   "name": "python",
   "nbconvert_exporter": "python",
   "pygments_lexer": "ipython3",
   "version": "3.6.0"
  }
 },
 "nbformat": 4,
 "nbformat_minor": 2
}
