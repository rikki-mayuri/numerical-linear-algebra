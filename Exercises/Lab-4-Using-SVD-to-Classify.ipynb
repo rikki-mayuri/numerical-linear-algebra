{
 "cells": [
  {
   "cell_type": "markdown",
   "metadata": {},
   "source": [
    "### Pre-Lab\n",
    "Either (a) export (then import) your data structures from Lab 2 & 3, or copy the major construction/development code into the below code-block. You'll need at least your 10-dimensional representation of the photos, you may want your entire SVD for experimental purposes. "
   ]
  },
  {
   "cell_type": "code",
   "execution_count": null,
   "metadata": {
    "collapsed": true
   },
   "outputs": [],
   "source": []
  },
  {
   "cell_type": "markdown",
   "metadata": {},
   "source": [
    "## Pre-Lab 2\n",
    "This chunk of code establishes a few test matrices for below."
   ]
  },
  {
   "cell_type": "code",
   "execution_count": 9,
   "metadata": {},
   "outputs": [
    {
     "name": "stdout",
     "output_type": "stream",
     "text": [
      "0.7071067811865475\n",
      "0.7071067811865475\n",
      "0.5773502691896258\n",
      "-0.5773502691896258\n",
      "0.5773502691896258\n",
      "  (0, 0)\t0.707106781187\n",
      "  (1, 0)\t0.707106781187\n",
      "  (0, 1)\t0.57735026919\n",
      "  (1, 1)\t-0.57735026919\n",
      "  (2, 1)\t0.57735026919\n",
      "{(0, 0): 0.7071067811865475, (1, 0): 0.7071067811865475, (0, 1): 0.5773502691896258, (1, 1): -0.5773502691896258, (2, 1): 0.5773502691896258}\n"
     ]
    }
   ],
   "source": [
    "import numpy as np\n",
    "from scipy.sparse import dok_matrix\n",
    "from math import sqrt\n",
    "M_f = {(0,0):1/sqrt(2) , (1,0):1/sqrt(2) , (0,1):1/sqrt(3), (1,1):-1/sqrt(3), (2,1):1/sqrt(3)}\n",
    "test_m = dok_matrix((3,2))\n",
    "for key, val in M_f.items():\n",
    "    test_m[key]=val\n",
    "print(test_m)\n",
    "print(M_f)\n",
    "#test_M = np.array(({0,1,2},{0,1}), M_f)\n",
    "#test_x = np.vec({0,1,2}, {0:10,1:20,2:30})"
   ]
  },
  {
   "cell_type": "code",
   "execution_count": 4,
   "metadata": {},
   "outputs": [
    {
     "name": "stdout",
     "output_type": "stream",
     "text": [
      "{(0, 0): 0.7071067811865475, (1, 0): 0.7071067811865475, (0, 1): 0.5773502691896258, (1, 1): -0.5773502691896258, (2, 1): 0.5773502691896258}\n"
     ]
    }
   ],
   "source": [
    "print(M_f)"
   ]
  },
  {
   "cell_type": "markdown",
   "metadata": {},
   "source": [
    "### Part 6 - Projections\n",
    "Complete each of the function definitions below. Be careful to read the specifications both for input AND output!"
   ]
  },
  {
   "cell_type": "code",
   "execution_count": 10,
   "metadata": {
    "collapsed": true
   },
   "outputs": [],
   "source": [
    "def projected_representation(M, x):\n",
    "    '''\n",
    "    Input:\n",
    "        - M: a matrix with orthonormal rows with M.D[1] == x.D\n",
    "        - x: a vector\n",
    "    Output:\n",
    "        - the projection of x onto the row-space of M\n",
    "    Examples:\n",
    "        >>> from vecutil import list2vec\n",
    "        >>> from matutil import listlist2mat\n",
    "        >>> x = list2vec([1, 2, 3])\n",
    "        >>> M = listlist2mat([[1, 0, 0], [0, 1, 0]])\n",
    "        >>> projected_representation(M, x)\n",
    "        Vec({0, 1},{0: 1, 1: 2})\n",
    "        >>> M = listlist2mat([[3/5, 1/5, 1/5], [0, 2/3, 1/3]])\n",
    "        >>> projected_representation(M, x)\n",
    "        Vec({0, 1},{0: 1.6, 1: 2.333333333333333})\n",
    "    '''\n",
    "    pass"
   ]
  },
  {
   "cell_type": "code",
   "execution_count": 11,
   "metadata": {
    "collapsed": true
   },
   "outputs": [],
   "source": [
    "def projection_length_squared(M, x):\n",
    "    '''\n",
    "    Input:\n",
    "        - M: matrix with orthonormal rows with M.D[1] == x.D\n",
    "        - x: vector\n",
    "    Output:\n",
    "        - the square of the norm of the projection of x into the\n",
    "          row-space of M\n",
    "    Example:\n",
    "        >>> from vecutil import list2vec\n",
    "        >>> from matutil import listlist2mat\n",
    "        >>> x = list2vec([1, 2, 3])\n",
    "        >>> M = listlist2mat([[1, 0, 0], [0, 1, 0]])\n",
    "        >>> projection_length_squared(M, x)\n",
    "        5\n",
    "        >>> M = listlist2mat([[3/5, 1/5, 1/5], [0, 2/3, 1/3]])\n",
    "        >>> projection_length_squared(M, x)\n",
    "        5.644424691358024\n",
    "    '''\n",
    "    pass"
   ]
  },
  {
   "cell_type": "markdown",
   "metadata": {},
   "source": [
    "### Part 7 - Distances\n",
    "Complete the function definition below to find distances from a vector to a sub-space."
   ]
  },
  {
   "cell_type": "code",
   "execution_count": 12,
   "metadata": {
    "collapsed": true
   },
   "outputs": [],
   "source": [
    "def distance_squared(M, x):\n",
    "    '''\n",
    "    Input:\n",
    "        - M: matrix with orthonormal rows with M.D[1] == x.D\n",
    "        - x: vector\n",
    "    Output:\n",
    "        - the square of the distance from x to the row-space of M\n",
    "    Example:\n",
    "        >>> from vecutil import list2vec\n",
    "        >>> from matutil import listlist2mat\n",
    "        >>> x = list2vec([1, 2, 3])\n",
    "        >>> M = listlist2mat([[1, 0, 0], [0, 1, 0]])\n",
    "        >>> distance_squared(M, x)\n",
    "        9\n",
    "        >>> M = listlist2mat([[3/5, 1/5, 1/5], [0, 2/3, 1/3]])\n",
    "        >>> distance_squared(M, x)\n",
    "        8.355575308641976\n",
    "    '''\n",
    "    pass"
   ]
  },
  {
   "cell_type": "markdown",
   "metadata": {},
   "source": [
    "### Part 8 - Using Distances\n",
    "Compute the distance of your centered faces to the 10-dimensional subspace you defined.\n",
    "\n",
    "Question: Explain why these are not zero!"
   ]
  },
  {
   "cell_type": "code",
   "execution_count": null,
   "metadata": {
    "collapsed": true
   },
   "outputs": [],
   "source": []
  }
 ],
 "metadata": {
  "kernelspec": {
   "display_name": "Python 3",
   "language": "python",
   "name": "python3"
  },
  "language_info": {
   "codemirror_mode": {
    "name": "ipython",
    "version": 3
   },
   "file_extension": ".py",
   "mimetype": "text/x-python",
   "name": "python",
   "nbconvert_exporter": "python",
   "pygments_lexer": "ipython3",
   "version": "3.6.0"
  }
 },
 "nbformat": 4,
 "nbformat_minor": 2
}
