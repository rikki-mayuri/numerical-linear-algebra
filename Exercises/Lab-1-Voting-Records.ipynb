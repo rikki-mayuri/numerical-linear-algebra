{
 "cells": [
  {
   "cell_type": "markdown",
   "metadata": {},
   "source": [
    "This is a notebook version of a lab/stencil file from the textbook \"Coding the Matrix\"\n",
    "\n",
    "These files should NOT be made public, both to avoid sharing solutions, and to allow the book to maintain its value.\n",
    " \n",
    "This stencil for the lab was originally created by Philip Klien, who holds the copyright.\n",
    "\n",
    "This is a derivative work (converting to a notebook), designed for classroom simplicity, not as a separate product.\n",
    "\n",
    "# Lab: Comparing Voting Records Using Dot-Products"
   ]
  },
  {
   "cell_type": "markdown",
   "metadata": {},
   "source": [
    "### Importing the necessary data"
   ]
  },
  {
   "cell_type": "code",
   "execution_count": 214,
   "metadata": {},
   "outputs": [],
   "source": [
    "import numpy as np\n",
    "# Requirements: the data file 'voting_record_dump109.txt' is included in the same folder as the notebook\n",
    "f = open('../Datasets/US_Senate_voting_data_109.txt')\n",
    "mylist = list(f)"
   ]
  },
  {
   "cell_type": "markdown",
   "metadata": {},
   "source": [
    "### Task 1: Create Voting Dictionary"
   ]
  },
  {
   "cell_type": "code",
   "execution_count": 163,
   "metadata": {},
   "outputs": [],
   "source": [
    "def parse_senator(senator, party_designation=None, verbose=False):    \n",
    "    s_array = senator.split()\n",
    "    \n",
    "    #ints of the character votes\n",
    "    int_votes = list(map(int,s_array[3:]))\n",
    "    \n",
    "    #keep name and voting history\n",
    "    if verbose:\n",
    "        s_key = (s_array[0], s_array[2])\n",
    "    else:\n",
    "        s_key = s_array[0]\n",
    "    s_voting_dict_elmt = (s_key, int_votes)\n",
    "    if party_designation:\n",
    "        if s_array[1] == party_designation:\n",
    "            return s_voting_dict_elmt\n",
    "        #not a party we care about\n",
    "        else:\n",
    "            return (None,None)\n",
    "    else:\n",
    "        return s_voting_dict_elmt\n",
    "        \n",
    "        \n",
    "def create_voting_dict(strlist, party_flag=None):\n",
    "    \"\"\"\n",
    "    Input: a list of strings.  Each string represents the voting record of a senator.\n",
    "           The string consists of \n",
    "              - the senator's last name, \n",
    "              - a letter indicating the senator's party,\n",
    "              - a couple of letters indicating the senator's home state, and\n",
    "              - a sequence of numbers (0's, 1's, and negative 1's) indicating the senator's\n",
    "                votes on bills\n",
    "              all separated by spaces.\n",
    "              \n",
    "    Output: A dictionary that maps the last name of a senator\n",
    "            to a list of numbers representing the senator's voting record.\n",
    "    Example: \n",
    "        >>> vd = create_voting_dict(['Kennedy D MA -1 -1 1 1', 'Snowe R ME 1 1 1 1'])\n",
    "        >>> vd == {'Snowe': [1, 1, 1, 1], 'Kennedy': [-1, -1, 1, 1]}\n",
    "        True\n",
    "\n",
    "    You can use the .split() method to split each string in the\n",
    "    strlist into a list; the first element of the list will be the senator's\n",
    "    name, the second will be his/her party affiliation (R or D), the\n",
    "    third will be his/her home state, and the remaining elements of\n",
    "    the list will be that senator's voting record on a collection of bills.\n",
    "\n",
    "    You can use the built-in procedure int() to convert a string\n",
    "    representation of an integer (e.g. '1') to the actual integer\n",
    "    (e.g. 1).\n",
    "\n",
    "    The lists for each senator should preserve the order listed in voting data.\n",
    "    In case you're feeling clever, this can be done in one line.\n",
    "    \"\"\"\n",
    "    voting_dict = dict(map(lambda sen_str : parse_senator(*[sen_str, party_flag]), strlist))\n",
    "    \n",
    "    voting_dict.pop(None, None)\n",
    "    \n",
    "    return voting_dict\n",
    "    \n",
    "    "
   ]
  },
  {
   "cell_type": "markdown",
   "metadata": {},
   "source": [
    "### Test Code for Task #1\n",
    "The following code can be used to test your 'create_voting_dict' procedure. It should be removed before exporting to the script file for auto-grading."
   ]
  },
  {
   "cell_type": "code",
   "execution_count": 164,
   "metadata": {},
   "outputs": [
    {
     "name": "stdout",
     "output_type": "stream",
     "text": [
      "{'Snowe': [1, 1, 1, 1], 'Kennedy': [-1, -1, 1, 1]}\n"
     ]
    },
    {
     "data": {
      "text/plain": [
       "True"
      ]
     },
     "execution_count": 164,
     "metadata": {},
     "output_type": "execute_result"
    }
   ],
   "source": [
    "vd = create_voting_dict(['Kennedy D MA -1 -1 1 1', 'Snowe R ME 1 1 1 1'])\n",
    "print(vd)\n",
    "vd == {'Snowe': [1, 1, 1, 1], 'Kennedy': [-1, -1, 1, 1]}"
   ]
  },
  {
   "cell_type": "markdown",
   "metadata": {},
   "source": [
    "### Task 2: Write a policy compare procedure"
   ]
  },
  {
   "cell_type": "code",
   "execution_count": 129,
   "metadata": {},
   "outputs": [],
   "source": [
    "import numpy as np\n",
    "\n",
    "def policy_compare(sen_a, sen_b, voting_dict):\n",
    "    \"\"\"\n",
    "    Input: last names of sen_a and sen_b, and a voting dictionary mapping senator\n",
    "           names to lists representing their voting records.\n",
    "    Output: the dot-product (as a number) representing the degree of similarity\n",
    "            between two senators' voting policies\n",
    "    Example:\n",
    "        >>> voting_dict = {'Fox-Epstein':[-1,-1,-1,1],'Ravella':[1,1,1,1]}\n",
    "        >>> policy_compare('Fox-Epstein','Ravella', voting_dict)\n",
    "        -2\n",
    "    \n",
    "    The code should correctly compute the dot-product even if the numbers are not all in {0,1,-1}.\n",
    "        >>> policy_compare('A', 'B', {'A':[100,10,1], 'B':[2,5,3]})\n",
    "        253\n",
    "        \n",
    "    You should definitely try to write this in one line.\n",
    "    \"\"\"\n",
    "    return np.dot(voting_dict[sen_a], voting_dict[sen_b])\n",
    "    "
   ]
  },
  {
   "cell_type": "markdown",
   "metadata": {},
   "source": [
    "### Test code for Task #2\n",
    "The following code can be used to test 'policy_compare'"
   ]
  },
  {
   "cell_type": "code",
   "execution_count": 130,
   "metadata": {},
   "outputs": [
    {
     "name": "stdout",
     "output_type": "stream",
     "text": [
      "-2\n",
      "253\n",
      "1\n"
     ]
    }
   ],
   "source": [
    "voting_dict = {'Fox-Epstein':[-1,-1,-1,1],'Ravella':[1,1,1,1]}\n",
    "print(policy_compare('Fox-Epstein','Ravella', voting_dict))\n",
    "print(policy_compare('A', 'B', {'A':[100,10,1], 'B':[2,5,3]}))\n",
    "print(policy_compare('A', 'B', {'A':[1,1,1], 'B':[1,1,-1]}))"
   ]
  },
  {
   "cell_type": "markdown",
   "metadata": {},
   "source": [
    "### Task 3: Most Similar Procedure"
   ]
  },
  {
   "cell_type": "code",
   "execution_count": 179,
   "metadata": {},
   "outputs": [],
   "source": [
    "def most_similar(sen, voting_dict):\n",
    "    \"\"\"\n",
    "    Input: the last name of a senator, and a dictionary mapping senator names\n",
    "           to lists representing their voting records.\n",
    "    Output: the last name of the senator whose political mindset is most\n",
    "            like the input senator (excluding, of course, the input senator\n",
    "            him/herself). Resolve ties arbitrarily.\n",
    "    Example:\n",
    "        >>> vd = {'Klein': [1,1,1], 'Fox-Epstein': [1,-1,0], 'Ravella': [-1,0,0]}\n",
    "        >>> most_similar('Klein', vd)\n",
    "        'Fox-Epstein'\n",
    "        >>> vd == {'Klein': [1,1,1], 'Fox-Epstein': [1,-1,0], 'Ravella': [-1,0,0]}\n",
    "        True\n",
    "        >>> vd = {'a': [1,1,1,0], 'b': [1,-1,0,0], 'c': [-1,0,0,0], 'd': [-1,0,0,1], 'e': [1, 0, 0,0]}\n",
    "        >>> most_similar('c', vd)\n",
    "        'd'\n",
    "\n",
    "    Note that you can (and are encouraged to) re-use your policy_compare procedure.\n",
    "    \"\"\"\n",
    "    # copy dict but remove exisint Senator that we are comparing\n",
    "    # helpful for more consice iteration below\n",
    "    others = voting_dict.copy()\n",
    "    others.pop(sen)\n",
    "    sen_names = others.keys()\n",
    "\n",
    "    # start with the first Senator in the dict without our given Senator\n",
    "    # maintain intermmediate twin with most comparable voting history\n",
    "    twin_name = others.popitem()[0]\n",
    "    twin_score = policy_compare(sen, twin_name, voting_dict)\n",
    "        \n",
    "    # iterate through senators and update the twin upon discovery of a more matched voter.\n",
    "    for name in sen_names:\n",
    "        voting_delta = policy_compare(sen, name, voting_dict)\n",
    "        if (voting_delta > twin_score):\n",
    "            twin_name = name\n",
    "            twin_score = voting_delta\n",
    "        \n",
    "    return twin_name"
   ]
  },
  {
   "cell_type": "markdown",
   "metadata": {},
   "source": [
    "Testing Code"
   ]
  },
  {
   "cell_type": "code",
   "execution_count": 180,
   "metadata": {},
   "outputs": [
    {
     "name": "stdout",
     "output_type": "stream",
     "text": [
      "Fox-Epstein\n",
      "True\n",
      "d\n"
     ]
    }
   ],
   "source": [
    "vd = {'Klein': [1,1,1], 'Fox-Epstein': [1,-1,0], 'Ravella': [-1,0,0]}\n",
    "print(most_similar('Klein', vd))  #Expect output to be 'Fox-Epstein'\n",
    "print(vd == {'Klein': [1,1,1], 'Fox-Epstein': [1,-1,0], 'Ravella': [-1,0,0]} )  #Expected output, 'True'\n",
    "\n",
    "vd = {'a': [1,1,1,0], 'b': [1,-1,0,0], 'c': [-1,0,0,0], 'd': [-1,0,0,1], 'e': [1, 0, 0,0]}\n",
    "print(most_similar('c', vd)) #Expected output, 'd'"
   ]
  },
  {
   "cell_type": "markdown",
   "metadata": {},
   "source": [
    "### Task 4: Least Similar Procedure"
   ]
  },
  {
   "cell_type": "code",
   "execution_count": 85,
   "metadata": {},
   "outputs": [],
   "source": [
    "def least_similar(sen, voting_dict, score_required=False):\n",
    "    \"\"\"\n",
    "    Input: the last name of a senator, and a dictionary mapping senator names\n",
    "           to lists representing their voting records.\n",
    "    Output: the last name of the senator whose political mindset is least like the input\n",
    "            senator.\n",
    "    Example:\n",
    "        >>> vd = {'a': [1,1,1], 'b': [1,-1,0], 'c': [-1,0,0]}\n",
    "        >>> least_similar('a', vd)\n",
    "        'c'\n",
    "        >>> vd == {'a': [1,1,1], 'b': [1,-1,0], 'c': [-1,0,0]}\n",
    "        True\n",
    "        >>> vd = {'a': [-1,0,0], 'b': [1,0,0], 'c': [-1,1,0], 'd': [-1,1,1]}\n",
    "        >>> least_similar('c', vd)\n",
    "        'b'\n",
    "    \"\"\"\n",
    "    # copy dict but remove exisint Senator that we are comparing\n",
    "    # helpful for more consice iteration below\n",
    "    others = voting_dict.copy()\n",
    "    others.pop(sen)\n",
    "    sen_names = others.keys()\n",
    "\n",
    "    # start with the first Senator in the dict without our given Senator\n",
    "    # maintain intermmediate twin with most comparable voting history\n",
    "    twin_name = others.popitem()[0]\n",
    "    twin_score = policy_compare(sen, twin_name, voting_dict)\n",
    "        \n",
    "    # iterate through senators and update the twin upon discovery of a more matched voter.\n",
    "    for name in sen_names:\n",
    "        voting_delta = policy_compare(sen, name, voting_dict)\n",
    "        if (voting_delta < twin_score):\n",
    "            twin_name = name\n",
    "            twin_score = voting_delta\n",
    "        \n",
    "    return (twin_name, twin_score) if score_required else twin_name\n"
   ]
  },
  {
   "cell_type": "code",
   "execution_count": 86,
   "metadata": {},
   "outputs": [
    {
     "name": "stdout",
     "output_type": "stream",
     "text": [
      "c\n",
      "True\n",
      "b\n"
     ]
    }
   ],
   "source": [
    "vd = {'a': [1,1,1], 'b': [1,-1,0], 'c': [-1,0,0]}\n",
    "print(least_similar('a', vd)) #expected output 'c'\n",
    "print( vd == {'a': [1,1,1], 'b': [1,-1,0], 'c': [-1,0,0]} ) #Expected output 'True'\n",
    "\n",
    "vd = {'a': [-1,0,0], 'b': [1,0,0], 'c': [-1,1,0], 'd': [-1,1,1]}\n",
    "print(least_similar('c', vd)) #Expected output 'b'"
   ]
  },
  {
   "cell_type": "markdown",
   "metadata": {},
   "source": [
    "### Task 5: Senators Chafee and Santorum"
   ]
  },
  {
   "cell_type": "code",
   "execution_count": 87,
   "metadata": {},
   "outputs": [
    {
     "name": "stdout",
     "output_type": "stream",
     "text": [
      "Jeffords\n",
      "Sununu\n"
     ]
    }
   ],
   "source": [
    "most_like_chafee = most_similar('Chafee', create_voting_dict(mylist))\n",
    "print(most_like_chafee)\n",
    "\n",
    "least_like_santorum = least_similar('Chafee', create_voting_dict(mylist))\n",
    "print(least_like_santorum)"
   ]
  },
  {
   "cell_type": "markdown",
   "metadata": {},
   "source": [
    "### Task 6: Most Average Democrat"
   ]
  },
  {
   "cell_type": "code",
   "execution_count": 154,
   "metadata": {},
   "outputs": [],
   "source": [
    "import numpy as np\n",
    "\n",
    "def find_average_similarity(sen, sen_set, voting_dict):\n",
    "    \"\"\"\n",
    "    Input: the name of a senator, a set of senator names, and a voting dictionary.\n",
    "    Output: the average dot-product between sen and those in sen_set.\n",
    "    Example:\n",
    "        >>> vd = {'Klein':[1,1,1], 'Fox-Epstein':[1,-1,0], 'Ravella':[-1,0,0], 'Oyakawa':[-1,-1,-1], 'Loery':[0,1,1]}\n",
    "        >>> sens = {'Fox-Epstein','Ravella','Oyakawa','Loery'}\n",
    "        >>> find_average_similarity('Klein', sens, vd)\n",
    "        -0.5\n",
    "        >>> sens == {'Fox-Epstein','Ravella', 'Oyakawa', 'Loery'}\n",
    "        True\n",
    "        >>> vd == {'Klein':[1,1,1], 'Fox-Epstein':[1,-1,0], 'Ravella':[-1,0,0], 'Oyakawa':[-1,-1,-1], 'Loery':[0,1,1]}\n",
    "        True\n",
    "    \"\"\"\n",
    "    n = len(sen_set)\n",
    "    v_sum = 0.0\n",
    "    \n",
    "    for s in sen_set:\n",
    "        v_sum += np.dot(voting_dict[sen], voting_dict[s])\n",
    "        \n",
    "    return v_sum/n\n",
    "        \n"
   ]
  },
  {
   "cell_type": "code",
   "execution_count": 155,
   "metadata": {
    "scrolled": true
   },
   "outputs": [
    {
     "name": "stdout",
     "output_type": "stream",
     "text": [
      "-0.5\n",
      "True\n",
      "True\n"
     ]
    }
   ],
   "source": [
    "#Test Code\n",
    "vd = {'Klein':[1,1,1], 'Fox-Epstein':[1,-1,0], 'Ravella':[-1,0,0], 'Oyakawa':[-1,-1,-1], 'Loery':[0,1,1]}\n",
    "sens = {'Fox-Epstein','Ravella','Oyakawa','Loery'}\n",
    "\n",
    "print(find_average_similarity('Klein', sens, vd) ) \n",
    "# Expected output :   -0.5\n",
    "\n",
    "print(sens == {'Fox-Epstein','Ravella', 'Oyakawa', 'Loery'} ) \n",
    "#Expected output:   True\n",
    "\n",
    "print(vd == {'Klein':[1,1,1], 'Fox-Epstein':[1,-1,0], 'Ravella':[-1,0,0], 'Oyakawa':[-1,-1,-1], 'Loery':[0,1,1]} ) \n",
    "#expected output:   True\\"
   ]
  },
  {
   "cell_type": "code",
   "execution_count": 187,
   "metadata": {},
   "outputs": [
    {
     "name": "stdout",
     "output_type": "stream",
     "text": [
      "('Biden', 34.976190476190474)\n"
     ]
    }
   ],
   "source": [
    "# give the last name (or code that computes the last name)\n",
    "dem_dict = create_voting_dict(mylist, 'D')\n",
    "dem_sen_names = dem_dict.keys();\n",
    "\n",
    "name0 = dem_sen_names.pop()\n",
    "score0 = find_average_similarity(name0, dem_sen_names, dem_dict)\n",
    "most_avg_dem = (name0, score0)\n",
    "\n",
    "for dem in dem_sen_names:\n",
    "    score = find_average_similarity(dem, dem_sen_names, dem_dict)\n",
    "    if score > most_avg_dem[1]:\n",
    "        most_avg_dem = (dem, score)\n",
    "\n",
    "print(most_avg_dem)"
   ]
  },
  {
   "cell_type": "markdown",
   "metadata": {},
   "source": [
    "### Task 7: Average Record"
   ]
  },
  {
   "cell_type": "code",
   "execution_count": 188,
   "metadata": {},
   "outputs": [],
   "source": [
    "def find_average_record(sen_set, voting_dict):\n",
    "    \"\"\"\n",
    "    Input: a set of last names, a voting dictionary\n",
    "    Output: a vector containing the average components of the voting records\n",
    "            of the senators in the input set\n",
    "    Example: \n",
    "        >>> voting_dict = {'Klein': [-1,0,1], 'Fox-Epstein': [-1,-1,-1], 'Ravella': [0,0,1]}\n",
    "        >>> senators = {'Fox-Epstein','Ravella'}\n",
    "        >>> find_average_record(senators, voting_dict)\n",
    "        [-0.5, -0.5, 0.0]\n",
    "        >>> voting_dict == {'Klein': [-1,0,1], 'Fox-Epstein': [-1,-1,-1], 'Ravella': [0,0,1]}\n",
    "        True\n",
    "        >>> senators\n",
    "        {'Fox-Epstein','Ravella'}\n",
    "        >>> d = {'c': [-1,-1,0], 'b': [0,1,1], 'a': [0,1,1], 'e': [-1,-1,1], 'd': [-1,1,1]}\n",
    "        >>> find_average_record({'a','c','e'}, d)\n",
    "        [-0.6666666666666666, -0.3333333333333333, 0.6666666666666666]\n",
    "        >>> find_average_record({'a','c','e','b'}, d)\n",
    "        [-0.5, 0.0, 0.75]\n",
    "        >>> find_average_record({'a'}, d)\n",
    "        [0.0, 1.0, 1.0]\n",
    "    \"\"\"        \n",
    "    \n",
    "    voting_list_set = map(voting_dict.get,sen_set)\n",
    "   \n",
    "    n = len(sen_set) * 1.0    \n",
    "    return np.sum(voting_list_set, axis=0) / n"
   ]
  },
  {
   "cell_type": "code",
   "execution_count": 189,
   "metadata": {},
   "outputs": [
    {
     "name": "stdout",
     "output_type": "stream",
     "text": [
      "[-0.5 -0.5  0. ]\n"
     ]
    }
   ],
   "source": [
    "#Test your procedure here...\n",
    "#Use the previous tasks descriptions, and their test code to determine what you should extract from the above definition cell.\n",
    "# d = {'c': [-1,-1,0], 'b': [0,1,1], 'a': [0,1,1], 'e': [-1,-1,1], 'd': [-1,1,1]}\n",
    "# find_average_record({'a','c','e'}, d)\n",
    "\n",
    "voting_dict = {'Klein': [-1,0,1], 'Fox-Epstein': [-1,-1,-1], 'Ravella': [0,0,1]}\n",
    "senators = {'Fox-Epstein','Ravella'}\n",
    "print(find_average_record(senators, voting_dict))"
   ]
  },
  {
   "cell_type": "code",
   "execution_count": 190,
   "metadata": {},
   "outputs": [
    {
     "name": "stdout",
     "output_type": "stream",
     "text": [
      "[-0.1627907  -0.23255814  1.          0.8372093   0.97674419 -0.13953488\n",
      " -0.95348837  0.81395349  0.97674419  0.97674419  0.90697674  0.76744186\n",
      "  0.6744186   0.97674419 -0.51162791  0.93023256  0.95348837  0.97674419\n",
      " -0.39534884  0.97674419  1.          1.          1.          0.95348837\n",
      " -0.48837209  1.         -0.3255814  -0.06976744  0.97674419  0.86046512\n",
      "  0.97674419  0.97674419  1.          1.          0.97674419 -0.34883721\n",
      "  0.97674419 -0.48837209  0.23255814  0.88372093  0.44186047  0.90697674\n",
      " -0.90697674  1.          0.90697674 -0.30232558]\n"
     ]
    }
   ],
   "source": [
    "dem_dict = create_voting_dict(mylist, 'D')\n",
    "avg_dem_rec = find_average_record(dem_dict.keys(), dem_dict)\n",
    "print(avg_dem_rec)"
   ]
  },
  {
   "cell_type": "markdown",
   "metadata": {},
   "source": [
    "### Task 8: Bitter Rivals"
   ]
  },
  {
   "cell_type": "code",
   "execution_count": 217,
   "metadata": {},
   "outputs": [],
   "source": [
    "def bitter_rivals(voting_dict):\n",
    "    \"\"\"\n",
    "    Input: a dictionary mapping senator names to lists representing\n",
    "           their voting records\n",
    "    Output: a tuple containing the two senators who most strongly\n",
    "            disagree with one another.\n",
    "    Example: \n",
    "        >>> voting_dict = {'Klein':[-1,0,1], 'Fox-Epstein':[-1,-1,-1], 'Ravella':[0,0,1], 'Oyakawa':[1,1,1], 'Loery':[1,1,0]}\n",
    "        >>> br = bitter_rivals(voting_dict)\n",
    "        >>> br == ('Fox-Epstein', 'Oyakawa') or br == ('Oyakawa', 'Fox-Epstein')\n",
    "        True\n",
    "    \"\"\"\n",
    "    \n",
    "    # LinAlg implementation\n",
    "    \n",
    "    # data fetch\n",
    "    rival_name_list = voting_dict.keys()\n",
    "    voting_matrix = np.matrix(voting_dict.values())  \n",
    "    \n",
    "    # compute a matrix lookup for senator comparison ratings\n",
    "    rival_matrix = np.dot(voting_matrix, np.transpose(voting_matrix))\n",
    "        \n",
    "    # find the index of the minimals comparison ratings\n",
    "    # , which corresponds to the 2 most differing senators\n",
    "    rival_indices = np.where(rival_matrix == rival_matrix.min())[0]\n",
    "    rivals = rival_name_list[rival_indices[0]], rival_name_list[rival_indices[1]]\n",
    "\n",
    "    return rivals\n",
    "    \n",
    "\n",
    "    # quick python implementation:\n",
    "        \n",
    "#     sen_rival_scores = [(sen, least_similar(sen, voting_dict, True)) for sen in voting_dict.keys()]        \n",
    "#     bitter_rivals = min(sen_rival_scores, key=lambda tup: tup[1][1])\n",
    "#     return (bitter_rivals[0], bitter_rivals[1][0])\n",
    "    \n"
   ]
  },
  {
   "cell_type": "code",
   "execution_count": 218,
   "metadata": {},
   "outputs": [
    {
     "data": {
      "text/plain": [
       "True"
      ]
     },
     "execution_count": 218,
     "metadata": {},
     "output_type": "execute_result"
    }
   ],
   "source": [
    "#Again, test your 'bitter_rivals' procedure here!\n",
    "voting_dict = {'Klein':[-1,0,1], 'Fox-Epstein':[-1,-1,-1], 'Ravella':[0,0,1], 'Oyakawa':[1,1,1], 'Loery':[1,1,0]}\n",
    "br = bitter_rivals(voting_dict)\n",
    "br == ('Fox-Epstein', 'Oyakawa') or br == ('Oyakawa', 'Fox-Epstein')"
   ]
  },
  {
   "cell_type": "markdown",
   "metadata": {},
   "source": [
    "### Task 9: Open Ended-Study\n",
    "Create a separate notebook file that answers the open-ended study questions posed in the lab handout.\n",
    "You should turn in BOTH the code, and the explanations of your answers (i.e. more than just 'yes', 'no', and names!)\n",
    "\n",
    "    | 1) Who is most R/D:\n",
    "        a) Senator? b) State?\n",
    "    | 2) Is McCains a Maverick?\n",
    "    | 3) Is Obama Extremist?\n",
    "    | 4) Who has most opponents (based on some threshold)?\n"
   ]
  },
  {
   "cell_type": "markdown",
   "metadata": {},
   "source": [
    "### Turning in your work...\n",
    "If you get to this point... awesome! We'll go over how to submit the code files for grading, and where to submit the explanations either Thursday or next Tuesday. \n",
    "This assignment is tentatively due by 10pm next Tuesday. "
   ]
  },
  {
   "cell_type": "code",
   "execution_count": 375,
   "metadata": {},
   "outputs": [
    {
     "name": "stdout",
     "output_type": "stream",
     "text": [
      "('AVG_DEM', ('Biden', 'DE'))\n",
      "('AVG_REP', ('Grassley', 'IA'))\n",
      "('RIVALS', (('Feingold', 'WI'), ('Inhofe', 'OK')))\n",
      "('Rival1 Score', 14.010204081632653)\n",
      "('Rival2 Score', 22.459183673469386)\n",
      "('Obama Score', 25.479591836734695)\n",
      "('McCain Score', 23.020408163265305)\n",
      "MD\n",
      "MO\n",
      "42.0\n",
      "46.0\n",
      "('PUBLIC ENEMY @ PERCENT', 10, (('Feingold', 'WI'), 51))\n",
      "('PUBLIC ENEMY @ PERCENT', 15, (('Feingold', 'WI'), 57))\n",
      "('PUBLIC ENEMY @ PERCENT', 20, (('Feingold', 'WI'), 62))\n",
      "('PUBLIC ENEMY @ PERCENT', 25, (('Feingold', 'WI'), 72))\n",
      "('PUBLIC ENEMY @ PERCENT', 30, (('Coburn', 'OK'), 94))\n",
      "('PUBLIC ENEMY @ PERCENT', 35, (('Lieberman', 'CT'), 97))\n",
      "('PUBLIC ENEMY @ PERCENT', 40, (('Lieberman', 'CT'), 98))\n",
      "('PUBLIC ENEMY @ PERCENT', 45, (('McCain', 'AZ'), 98))\n"
     ]
    }
   ],
   "source": [
    "def create_verbose_voting_dict(strlist, party_flag=None):\n",
    "    voting_dict = dict(map(lambda sen_str : parse_senator(*[sen_str, party_flag, True]), strlist))\n",
    "    voting_dict.pop(None, None)\n",
    "    return voting_dict\n",
    "        \n",
    "\n",
    "repubs = create_verbose_voting_dict(mylist, 'R')\n",
    "dems = create_verbose_voting_dict(mylist, 'D')\n",
    "\n",
    "def avg_helper(party_dict, avg_rec, key=('party', 'USA')):\n",
    "    dict_proxy = party_dict.copy()\n",
    "    dict_proxy.update([(key, avg_rec)])\n",
    "    most_avg_member = most_similar(key, dict_proxy)\n",
    "    return most_avg_member\n",
    "\n",
    "def party_avg_h(party_dict, key=('party', 'USA')):\n",
    "    avg_rec = find_average_record(party_dict.keys(), party_dict)\n",
    "    return avg_helper(party_dict, avg_rec, key)\n",
    "\n",
    "\n",
    "print(\"AVG_DEM\", party_avg_h(dems))\n",
    "print(\"AVG_REP\", party_avg_h(repubs))\n",
    "\n",
    "voting_dict = dems.copy()\n",
    "voting_dict.update(repubs.copy())\n",
    "rivals = bitter_rivals(voting_dict)\n",
    "print(\"RIVALS\", rivals)\n",
    "\n",
    "print(\"Rival1 Score\", find_average_similarity(rivals[0], ordered_sen_names, voting_dict))\n",
    "print(\"Rival2 Score\", find_average_similarity(rivals[1], ordered_sen_names, voting_dict))\n",
    "\n",
    "print(\"Obama Score\", find_average_similarity(('Obama', 'IL'), ordered_sen_names, voting_dict))\n",
    "print(\"McCain Score\", find_average_similarity(('McCain', 'AZ'), ordered_sen_names, voting_dict))\n",
    "\n",
    "ordered_sen_names = voting_dict.keys();\n",
    "voting_matrix = voting_dict.values()\n",
    "rival_matrix = np.dot(voting_matrix, np.transpose(voting_matrix))\n",
    "\n",
    "states = dict()\n",
    "for sen in ordered_sen_names:\n",
    "    state_name = sen[1]\n",
    "    votes = voting_dict[sen]\n",
    "    if states.has_key(state_name):\n",
    "        state = states[state_name]\n",
    "        state.append(votes)\n",
    "    else:\n",
    "        states[state_name] = [votes]\n",
    "        \n",
    "states = {k: np.mean(v, axis=0) for k, v in states.items()}\n",
    "avg_dem = find_average_record(dems.keys(), dems)\n",
    "avg_rep = find_average_record(repubs.keys(), repubs)\n",
    "\n",
    "print(avg_helper(states, avg_rec=avg_dem))\n",
    "print(avg_helper(states, avg_rec=avg_rep))\n",
    "\n",
    "print(np.dot(states['MD'], voting_dict[('Biden', 'DE')]))\n",
    "print(np.dot(states['MO'], voting_dict[('Grassley', 'IA')]))\n",
    "\n",
    "\n",
    "# rival_check_indices = np.where(rival_matrix == rival_matrix.min())[0]\n",
    "# print ordered_sen_names[rival_check_indices[0]]\n",
    "# print ordered_sen_names[rival_check_indices[1]]\n",
    "\n",
    "def opponents(threshold, ordered_sen_names, rival_matrix):\n",
    "    most_hated = (ordered_sen_names[0], 0)\n",
    "\n",
    "    for name, sen in zip(ordered_sen_names, rival_matrix):\n",
    "        opps = np.where(sen < threshold)\n",
    "        n_opps = len(opps[0])\n",
    "        if n_opps > most_hated[1]:\n",
    "            most_hated = (name, n_opps)\n",
    "    return most_hated\n",
    "\n",
    "for i in range(10, 50, 5):\n",
    "    print(\"PUBLIC ENEMY @ PERCENT\", i, opponents(i, ordered_sen_names, rival_matrix))"
   ]
  },
  {
   "cell_type": "code",
   "execution_count": null,
   "metadata": {},
   "outputs": [],
   "source": []
  }
 ],
 "metadata": {
  "kernelspec": {
   "display_name": "Python 2",
   "language": "python",
   "name": "python2"
  },
  "language_info": {
   "codemirror_mode": {
    "name": "ipython",
    "version": 2
   },
   "file_extension": ".py",
   "mimetype": "text/x-python",
   "name": "python",
   "nbconvert_exporter": "python",
   "pygments_lexer": "ipython2",
   "version": "2.7.15rc1"
  }
 },
 "nbformat": 4,
 "nbformat_minor": 2
}
