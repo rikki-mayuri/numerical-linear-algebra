{
 "cells": [
  {
   "cell_type": "markdown",
   "metadata": {},
   "source": [
    "# Lab 4 - Projections and Orthogonalizations"
   ]
  },
  {
   "cell_type": "markdown",
   "metadata": {},
   "source": [
    "This lab will have you work through defining several functions that build up the basic operations of projection and orthogonalization.\n",
    "\n",
    "You should probably never use YOUR functions in the future (other packages will be better optimized and better error-checked). This is simply to reinforce the understanding of these operations."
   ]
  },
  {
   "cell_type": "markdown",
   "metadata": {},
   "source": [
    "### Task 4.1 - Computing the Parallel Projection, in parts."
   ]
  },
  {
   "cell_type": "code",
   "execution_count": 1,
   "metadata": {},
   "outputs": [],
   "source": [
    "def compute_sigma_coefficient(vec1, vec2):\n",
    "    '''\n",
    "    Input: Two vectors\n",
    "    Output: If vectors are orthogonal, '0'; Else the coefficient for projection along the 2nd vector (i.e. vec2 = direction).\n",
    "    \n",
    "    Hint: You should probably error-check for division by zero before simply computing this!    \n",
    "    '''\n",
    "    \n",
    "    pass #This does nothing. Intentionally. Get rid of it when you put your code in!\n",
    "\n",
    "\n",
    "def project_along(vec1, vec2):\n",
    "    '''\n",
    "    Input: two vectors\n",
    "    Output (return): the portion of vector 1, parallel to vector 2 (i.e. along)\n",
    "    \n",
    "    Hint: Use the function you computed above!    \n",
    "    '''\n",
    "    \n",
    "    pass #This does nothing. Intentionally. Get rid of it when you put your code in!"
   ]
  },
  {
   "cell_type": "code",
   "execution_count": 2,
   "metadata": {},
   "outputs": [],
   "source": [
    "#Code to test your functions:\n",
    "\n",
    "#Put some sample code here to test your function outputs. "
   ]
  },
  {
   "cell_type": "markdown",
   "metadata": {},
   "source": [
    "### Task 4.2 Computing the Orthogonal Projection"
   ]
  },
  {
   "cell_type": "code",
   "execution_count": 3,
   "metadata": {},
   "outputs": [],
   "source": [
    "def project_orthogonal(vec_b, vec_list):\n",
    "    '''\n",
    "    Input: \n",
    "        vec_b is a vector to orthogonalize\n",
    "        vec_list is a list of vectors for vec_b to be orthogonal to\n",
    "    \n",
    "    Output (return): The portion of vec_b orthogonal to the vec_list\n",
    "    \n",
    "    Hint: Reuse the functions you've already defined!\n",
    "    \n",
    "    '''\n",
    "    \n",
    "    pass"
   ]
  },
  {
   "cell_type": "code",
   "execution_count": 4,
   "metadata": {},
   "outputs": [],
   "source": [
    "#Code to test your function\n",
    "\n",
    "#Put some sample code here!"
   ]
  },
  {
   "cell_type": "markdown",
   "metadata": {},
   "source": [
    "### Task 4.3 Finding an orthogonal basis"
   ]
  },
  {
   "cell_type": "code",
   "execution_count": 5,
   "metadata": {},
   "outputs": [],
   "source": [
    "def my_orthogonalize(vec_list):\n",
    "    '''\n",
    "    Input: a list of vectors\n",
    "    Output (return): a list of mutually orthogonal vectors\n",
    "    \n",
    "    Hint: Reuse the functions you've already defined!\n",
    "    '''\n",
    "    pass"
   ]
  },
  {
   "cell_type": "code",
   "execution_count": 6,
   "metadata": {},
   "outputs": [],
   "source": [
    "#Code to test your function\n",
    "\n",
    "#Put some sample code here!"
   ]
  },
  {
   "cell_type": "markdown",
   "metadata": {},
   "source": [
    "### Task 4.4 Extending your functions"
   ]
  },
  {
   "cell_type": "markdown",
   "metadata": {},
   "source": [
    "Extend the functions \"project_orthogonal\" and then \"my_orthogonalize\" to return the coefficients used in the projections. Basically, you are returning additional things, so you can later (soon) make a QR decomposition."
   ]
  },
  {
   "cell_type": "code",
   "execution_count": 7,
   "metadata": {},
   "outputs": [],
   "source": [
    "def project_orthogonal_sigma(vec_b, vec_list):\n",
    "    '''\n",
    "    Input: \n",
    "        vec_b is a vector to orthogonalize\n",
    "        vec_list is a list of vectors for vec_b to be orthogonal to\n",
    "    \n",
    "    Output (return): (vec_star, sigma_list)\n",
    "        vec_star = The portion of vec_b orthogonal to the vec_list\n",
    "        sigma_list = The sigmas, computed for each vector projection in vec_list\n",
    "    \n",
    "    '''"
   ]
  },
  {
   "cell_type": "code",
   "execution_count": 8,
   "metadata": {},
   "outputs": [],
   "source": [
    "#Code to test your function\n",
    "\n",
    "#Put some sample code here!"
   ]
  },
  {
   "cell_type": "code",
   "execution_count": 9,
   "metadata": {},
   "outputs": [],
   "source": [
    "def my_orthogonalize_sigma(vec_list):\n",
    "    '''\n",
    "    Input: a list of vectors\n",
    "    Output (return): (vec_star_list, sigma_vec_list)\n",
    "        vec_star_list =  a list of mutually orthogonal vectors\n",
    "        sigma_vec_list = A list of the sigma vectors, computed for each set of vector projection\n",
    "    \n",
    "    Hint: Reuse the functions you've already defined!\n",
    "    '''\n",
    "    pass"
   ]
  },
  {
   "cell_type": "code",
   "execution_count": 10,
   "metadata": {},
   "outputs": [],
   "source": [
    "#Code to test your function\n",
    "\n",
    "#Put some sample code here!"
   ]
  },
  {
   "cell_type": "markdown",
   "metadata": {},
   "source": [
    "### Task 4.5 Normalizing a vector"
   ]
  },
  {
   "cell_type": "code",
   "execution_count": null,
   "metadata": {},
   "outputs": [],
   "source": [
    "def norm_vec(vec):\n",
    "    '''\n",
    "    Input: a vector\n",
    "    Output (return): (vec, factor)\n",
    "    vec = scaled version of vector, such that norm(vec) = 1\n",
    "    factor = scaling factor used on returned vector\n",
    "    \n",
    "    '''\n",
    "    pass"
   ]
  },
  {
   "cell_type": "markdown",
   "metadata": {},
   "source": [
    "### Task 4.5 Finding a QR Factorization\n",
    "Use the functions you've defined to construct a QR factorization of a matrix.\n",
    "The psuedo-code looks like this:\n",
    "\n",
    "def myqr(MatrixA):\n",
    "\n",
    "    apply my_orthogonalize_sigma to MatrixA\n",
    "    let Q = matrix with the set of vectors returned from my_orthogonalize, but normalized to 1\n",
    "    let R = sigma coefficient matrix, with rows scaled by the normalization factor."
   ]
  },
  {
   "cell_type": "code",
   "execution_count": 11,
   "metadata": {},
   "outputs": [],
   "source": [
    "def myqr(MatrixA):\n",
    "    '''\n",
    "    Input: A Matrix\n",
    "    Output (return) : (Q, R) where:\n",
    "        Q is a matrix with orthonormal columns\n",
    "        R is a triangular matrix, such that QR = A\n",
    "    '''\n",
    "    pass\n"
   ]
  },
  {
   "cell_type": "markdown",
   "metadata": {},
   "source": [
    "### Task - Challenge: Implement Solving a system of equations USING either QR (or LU)."
   ]
  },
  {
   "cell_type": "code",
   "execution_count": null,
   "metadata": {},
   "outputs": [],
   "source": []
  }
 ],
 "metadata": {
  "kernelspec": {
   "display_name": "Python 3",
   "language": "python",
   "name": "python3"
  },
  "language_info": {
   "codemirror_mode": {
    "name": "ipython",
    "version": 3
   },
   "file_extension": ".py",
   "mimetype": "text/x-python",
   "name": "python",
   "nbconvert_exporter": "python",
   "pygments_lexer": "ipython3",
   "version": "3.6.4"
  }
 },
 "nbformat": 4,
 "nbformat_minor": 2
}
