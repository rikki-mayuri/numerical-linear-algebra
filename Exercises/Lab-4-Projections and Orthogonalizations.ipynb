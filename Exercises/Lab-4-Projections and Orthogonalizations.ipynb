{
 "cells": [
  {
   "cell_type": "markdown",
   "metadata": {},
   "source": [
    "# Lab 4 - Projections and Orthogonalizations"
   ]
  },
  {
   "cell_type": "markdown",
   "metadata": {},
   "source": [
    "This lab will have you work through defining several functions that build up the basic operations of projection and orthogonalization.\n",
    "\n",
    "You should probably never use YOUR functions in the future (other packages will be better optimized and better error-checked). This is simply to reinforce the understanding of these operations."
   ]
  },
  {
   "cell_type": "markdown",
   "metadata": {},
   "source": [
    "### Task 4.1 - Computing the Parallel Projection, in parts."
   ]
  },
  {
   "cell_type": "code",
   "execution_count": 48,
   "metadata": {},
   "outputs": [],
   "source": [
    "import numpy as np\n",
    "np.random.seed(10)\n",
    "\n",
    "import pandas as pd\n",
    "from math import sqrt\n",
    "\n",
    "def compute_sigma_coefficient(vec1, vec2):\n",
    "    '''\n",
    "    Input: Two vectors\n",
    "    Output: If vectors are orthogonal, '0'; Else the coefficient for projection along the 2nd vector (i.e. vec2 = direction).\n",
    "    \n",
    "    Hint: You should probably error-check for division by zero before simply computing this!    \n",
    "    '''\n",
    "    \n",
    "    b = np.array(vec1)\n",
    "    v = np.array(vec2)\n",
    "    \n",
    "    \n",
    "    dotP = np.dot(b, v) \n",
    "    if dotP == 0:\n",
    "        return 0\n",
    "    \n",
    "    cross1 = v.T @ b\n",
    "    cross2 = v.T @ v\n",
    "    \n",
    "    if cross2 == 0:\n",
    "        return \"error: div by 0\"\n",
    "    else:\n",
    "        return cross1 / cross2\n",
    "        \n",
    "    \n",
    "\n",
    "def project_along(vec1, vec2):\n",
    "    '''\n",
    "    Input: two vectors\n",
    "    Output (return): the portion of vector 1, parallel to vector 2 (i.e. along)\n",
    "    \n",
    "    Hint: Use the function you computed above!    \n",
    "    '''\n",
    "    sigma = compute_sigma_coefficient(vec1, vec2) \n",
    "    return (sigma, sigma * np.array(vec2))"
   ]
  },
  {
   "cell_type": "code",
   "execution_count": 50,
   "metadata": {},
   "outputs": [
    {
     "name": "stdout",
     "output_type": "stream",
     "text": [
      "0.8333333333333334\n"
     ]
    },
    {
     "data": {
      "text/plain": [
       "array([0.83333333, 1.66666667, 0.83333333])"
      ]
     },
     "execution_count": 50,
     "metadata": {},
     "output_type": "execute_result"
    }
   ],
   "source": [
    "#Code to test your functions:\n",
    "#Put some sample code here to test your function outputs. \n",
    "\n",
    "v = [[1/sqrt(6), 2/sqrt(6), 1/sqrt(6)],\n",
    "     [1, 1, 2]]\n",
    "\n",
    "print(5/6)\n",
    "\n",
    "project_along(v[1], v[0])[1]"
   ]
  },
  {
   "cell_type": "markdown",
   "metadata": {},
   "source": [
    "### Task 4.2 Computing the Orthogonal Projection"
   ]
  },
  {
   "cell_type": "code",
   "execution_count": 112,
   "metadata": {},
   "outputs": [],
   "source": [
    "def gram_schmidt(vlist):\n",
    "    S = []\n",
    "    V = []\n",
    "    vcopy = vlist.copy()\n",
    "    \n",
    "    u = vcopy.pop()\n",
    "    V.append(u)\n",
    "    S.append(1)\n",
    "    \n",
    "    for v in vcopy:\n",
    "        s, vproj = project_along(u, v)\n",
    "        u = u - vproj\n",
    "        S.append(s)\n",
    "        V.append(u)\n",
    "\n",
    "    return (V, S)\n",
    "\n",
    "\n",
    "def project_orthogonal(vec_b, vec_list):\n",
    "    '''\n",
    "    Input: \n",
    "        vec_b is a vector to orthogonalize\n",
    "        vec_list is a list of vectors for vec_b to be orthogonal to\n",
    "    \n",
    "    Output (return): The portion of vec_b orthogonal to the vec_list\n",
    "    \n",
    "    Hint: Reuse the functions you've already defined!\n",
    "    \n",
    "    '''\n",
    "    vec_list.append(vec_b)\n",
    "    return gram_schmidt(vec_list)[0][-1]"
   ]
  },
  {
   "cell_type": "code",
   "execution_count": 113,
   "metadata": {},
   "outputs": [
    {
     "data": {
      "text/plain": [
       "array([ 0.66666667, -0.66666667,  0.66666667])"
      ]
     },
     "execution_count": 113,
     "metadata": {},
     "output_type": "execute_result"
    }
   ],
   "source": [
    "#Code to test your function\n",
    "\n",
    "import math\n",
    "\n",
    "#Put some sample code here!\n",
    "b = [1,1,2]\n",
    "v = [[1/math.sqrt(6), 2/math.sqrt(6), 1/math.sqrt(6)],\n",
    "     [-1/math.sqrt(2), 0, 1/math.sqrt(2)]]\n",
    "\n",
    "b_perp_v = project_orthogonal(b, v)\n",
    "b_perp_v"
   ]
  },
  {
   "cell_type": "markdown",
   "metadata": {},
   "source": [
    "### Task 4.3 Finding an orthogonal basis"
   ]
  },
  {
   "cell_type": "code",
   "execution_count": 115,
   "metadata": {},
   "outputs": [],
   "source": [
    "def my_orthogonalize(vec_list):\n",
    "    '''\n",
    "    Input: a list of vectors\n",
    "    Output (return): a list of mutually orthogonal vectors\n",
    "    \n",
    "    Hint: Reuse the functions you've already defined!\n",
    "    '''\n",
    "    return gram_schmidt(vec_list)[0]"
   ]
  },
  {
   "cell_type": "code",
   "execution_count": 116,
   "metadata": {},
   "outputs": [
    {
     "data": {
      "text/plain": [
       "[[1, 1, 2],\n",
       " array([ 0.16666667, -0.66666667,  1.16666667]),\n",
       " array([ 0.66666667, -0.66666667,  0.66666667])]"
      ]
     },
     "execution_count": 116,
     "metadata": {},
     "output_type": "execute_result"
    }
   ],
   "source": [
    "#Code to test your function\n",
    "\n",
    "# v = [[3, 1],\n",
    "#      [2, 2]]\n",
    "\n",
    "v = [[1/math.sqrt(6), 2/math.sqrt(6), 1/math.sqrt(6)],\n",
    "     [-1/math.sqrt(2), 0, 1/math.sqrt(2)],\n",
    "     [1, 1, 2]]\n",
    "\n",
    "my_orthogonalize(v)"
   ]
  },
  {
   "cell_type": "code",
   "execution_count": 117,
   "metadata": {},
   "outputs": [
    {
     "data": {
      "text/plain": [
       "[0.4082482904638631, 0.8164965809277261, 0.7071067811865475]"
      ]
     },
     "execution_count": 117,
     "metadata": {},
     "output_type": "execute_result"
    }
   ],
   "source": [
    "[1/math.sqrt(6), 2/math.sqrt(6), 1/math.sqrt(2)]"
   ]
  },
  {
   "cell_type": "markdown",
   "metadata": {},
   "source": [
    "### Task 4.4 Extending your functions"
   ]
  },
  {
   "cell_type": "markdown",
   "metadata": {},
   "source": [
    "Extend the functions \"project_orthogonal\" and then \"my_orthogonalize\" to return the coefficients used in the projections. Basically, you are returning additional things, so you can later (soon) make a QR decomposition."
   ]
  },
  {
   "cell_type": "code",
   "execution_count": 118,
   "metadata": {},
   "outputs": [],
   "source": [
    "def project_orthogonal_sigma(vec_b, vec_list):\n",
    "    '''\n",
    "    Input: \n",
    "        vec_b is a vector to orthogonalize\n",
    "        vec_list is a list of vectors for vec_b to be orthogonal to\n",
    "    \n",
    "    Output (return): (vec_star, sigma_list)\n",
    "        vec_star = The portion of vec_b orthogonal to the vec_list\n",
    "        sigma_list = The sigmas, computed for each vector projection in vec_list\n",
    "    \n",
    "    '''\n",
    "    vec_list.append(vec_b)\n",
    "    V, S = gram_schmidt(vec_list)\n",
    "    return V[-1], S"
   ]
  },
  {
   "cell_type": "code",
   "execution_count": 119,
   "metadata": {},
   "outputs": [
    {
     "data": {
      "text/plain": [
       "(array([ 0.66666667, -0.66666667,  0.66666667]),\n",
       " [1, 2.0412414523193148, 0.7071067811865476])"
      ]
     },
     "execution_count": 119,
     "metadata": {},
     "output_type": "execute_result"
    }
   ],
   "source": [
    "#Code to test your function\n",
    "\n",
    "#Put some sample code here!\n",
    "\n",
    "v = [[1/math.sqrt(6), 2/math.sqrt(6), 1/math.sqrt(6)],\n",
    "     [-1/math.sqrt(2), 0, 1/math.sqrt(2)],\n",
    "     [1, 1, 2]]\n",
    "\n",
    "project_orthogonal_sigma(v[2], v[:2])"
   ]
  },
  {
   "cell_type": "code",
   "execution_count": 122,
   "metadata": {},
   "outputs": [],
   "source": [
    "def my_orthogonalize_sigma(vec_list):\n",
    "    '''\n",
    "    Input: a list of vectors\n",
    "    Output (return): (vec_star_list, sigma_vec_list)\n",
    "        vec_star_list =  a list of mutually orthogonal vectors\n",
    "        sigma_vec_list = A list of the sigma vectors, computed for each set of vector projections\n",
    "    \n",
    "    Hint: Reuse the functions you've already defined!\n",
    "    '''\n",
    "    \n",
    "    U = []\n",
    "    Smat = []\n",
    "    \n",
    "    for v in vec_list:\n",
    "        vc = vec_list.copy()\n",
    "        vc.remove(v)\n",
    "        vc.append(v)\n",
    "        (V, S) = gram_schmidt(vc)\n",
    "        U.append(V[-1])\n",
    "        Smat.append(S)\n",
    "    \n",
    "    return U, Smat"
   ]
  },
  {
   "cell_type": "code",
   "execution_count": 123,
   "metadata": {},
   "outputs": [
    {
     "data": {
      "text/plain": [
       "([array([ 0.06804138,  0.47628967, -0.27216553]),\n",
       "  array([-0.82495791, -0.11785113,  0.47140452]),\n",
       "  array([ 0.66666667, -0.66666667,  0.66666667])],\n",
       " [[1, 0, 0.34020690871988585],\n",
       "  [1, 0, 0.1178511301977579],\n",
       "  [1, 2.0412414523193148, 0.7071067811865476]])"
      ]
     },
     "execution_count": 123,
     "metadata": {},
     "output_type": "execute_result"
    }
   ],
   "source": [
    "#Code to test your function\n",
    "\n",
    "#Put some sample code here!\n",
    "\n",
    "v = [[1/math.sqrt(6), 2/math.sqrt(6), 1/math.sqrt(6)],\n",
    "     [-1/math.sqrt(2), 0, 1/math.sqrt(2)],\n",
    "     [1, 1, 2]]\n",
    "my_orthogonalize_sigma(v)"
   ]
  },
  {
   "cell_type": "markdown",
   "metadata": {},
   "source": [
    "### Task 4.5 Normalizing a vector"
   ]
  },
  {
   "cell_type": "code",
   "execution_count": 149,
   "metadata": {},
   "outputs": [
    {
     "data": {
      "text/plain": [
       "(array([0.40824829, 0.40824829, 0.81649658]), 2.449489742783178)"
      ]
     },
     "execution_count": 149,
     "metadata": {},
     "output_type": "execute_result"
    }
   ],
   "source": [
    "def norm_vec(vec):\n",
    "    '''\n",
    "    Input: a vector\n",
    "    Output (return): (vec, factor)\n",
    "    vec = scaled version of vector, such that norm(vec) = 1\n",
    "    factor = scaling factor used on returned vector\n",
    "    \n",
    "    '''\n",
    "    vec_array = np.array(vec)\n",
    "    factor = np.linalg.norm(vec_array)\n",
    "    return (vec_array / factor, factor)\n",
    "\n",
    "norm_vec([1, 1, 2])"
   ]
  },
  {
   "cell_type": "markdown",
   "metadata": {},
   "source": [
    "### Task 4.5 Finding a QR Factorization\n",
    "Use the functions you've defined to construct a QR factorization of a matrix.\n",
    "The psuedo-code looks like this:\n",
    "\n",
    "def myqr(MatrixA):\n",
    "\n",
    "    apply my_orthogonalize_sigma to MatrixA\n",
    "    let Q = matrix with the set of vectors returned from my_orthogonalize, but normalized to 1\n",
    "    let R = sigma coefficient matrix, with rows scaled by the normalization factor."
   ]
  },
  {
   "cell_type": "code",
   "execution_count": 156,
   "metadata": {},
   "outputs": [
    {
     "name": "stdout",
     "output_type": "stream",
     "text": [
      "[[array([[ 0.12309149],\n",
      "       [ 0.86164044],\n",
      "       [-0.49236596]])\n",
      "  0.5527707983925667]\n",
      " [array([[-0.86164044],\n",
      "       [-0.12309149],\n",
      "       [ 0.49236596]])\n",
      "  0.957427107756338]\n",
      " [array([[ 0.57735027],\n",
      "       [-0.57735027],\n",
      "       [ 0.57735027]])\n",
      "  1.1547005383792517]]\n",
      "\n",
      "[[array([[ 1.23687396],\n",
      "       [-0.13854821],\n",
      "       [ 0.02818739]])\n",
      "  array([[0.67785405],\n",
      "       [0.1261762 ],\n",
      "       [0.17533514]])\n",
      "  array([[ 0.59568063],\n",
      "       [-0.88997613],\n",
      "       [ 1.30184829]])]\n",
      " [0.7033650714550319 1.606036005303472 3.2120720106069434]]\n"
     ]
    }
   ],
   "source": [
    "def myqr(MatrixA):\n",
    "    '''\n",
    "    Input: A Matrix\n",
    "    Output (return) : (Q, R) where:\n",
    "        Q is a matrix with orthonormal columns\n",
    "        R is a triangular matrix, such that QR = A\n",
    "    '''\n",
    "    Q = []\n",
    "    A = MatrixA.tolist()\n",
    "    (V,_) = my_orthogonalize_sigma(A)\n",
    "    \n",
    "    for v in V:\n",
    "        Q.append(norm_vec(v))\n",
    "    \n",
    "    Q = np.matrix(Q)\n",
    "\n",
    "    return (Q, Q.T * MatrixA)\n",
    "\n",
    "\n",
    "aT = [[1/math.sqrt(6), 2/math.sqrt(6), 1/math.sqrt(6)],\n",
    "     [-1/math.sqrt(2), 0, 1/math.sqrt(2)],\n",
    "     [1, 1, 2]]\n",
    "\n",
    "q, r = myqr(np.matrix(aT))\n",
    "\n",
    "print(q)\n",
    "print()\n",
    "print(r)"
   ]
  },
  {
   "cell_type": "markdown",
   "metadata": {},
   "source": [
    "### Task - Challenge: Implement Solving a system of equations USING either QR (or LU)."
   ]
  },
  {
   "cell_type": "code",
   "execution_count": null,
   "metadata": {},
   "outputs": [],
   "source": []
  }
 ],
 "metadata": {
  "kernelspec": {
   "display_name": "Python 3",
   "language": "python",
   "name": "python3"
  },
  "language_info": {
   "codemirror_mode": {
    "name": "ipython",
    "version": 3
   },
   "file_extension": ".py",
   "mimetype": "text/x-python",
   "name": "python",
   "nbconvert_exporter": "python",
   "pygments_lexer": "ipython3",
   "version": "3.6.5"
  }
 },
 "nbformat": 4,
 "nbformat_minor": 2
}
