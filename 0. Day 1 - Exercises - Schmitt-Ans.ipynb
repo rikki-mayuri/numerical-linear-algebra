{
 "cells": [
  {
   "cell_type": "markdown",
   "metadata": {},
   "source": [
    "# 0. Exercises and Practice"
   ]
  },
  {
   "cell_type": "markdown",
   "metadata": {},
   "source": [
    "## Array Manipulations -- From SciPy Lecture Notes"
   ]
  },
  {
   "cell_type": "markdown",
   "metadata": {},
   "source": [
    "### 1. Form the 2-D array (without typing it in explicitly)::\n",
    "\n",
    "        [[1,  6, 11],\n",
    "         [2,  7, 12],\n",
    "         [3,  8, 13],\n",
    "         [4,  9, 14],\n",
    "         [5, 10, 15]]\n",
    "\n",
    "   and generate a new array containing its 2nd and 4th rows."
   ]
  },
  {
   "cell_type": "code",
   "execution_count": 1,
   "metadata": {},
   "outputs": [
    {
     "name": "stdout",
     "output_type": "stream",
     "text": [
      "[1 2 3 4 5] [ 6  7  8  9 10] [11 12 13 14 15]\n"
     ]
    }
   ],
   "source": [
    "#Put your additional code to answer the exercise here!\n",
    "import numpy as np\n",
    "a = np.arange(1,6)\n",
    "b = np.arange(6,11)\n",
    "c = np.arange(11,16)\n",
    "print(a,b,c)"
   ]
  },
  {
   "cell_type": "code",
   "execution_count": 3,
   "metadata": {},
   "outputs": [
    {
     "name": "stdout",
     "output_type": "stream",
     "text": [
      "[[ 1  6 11]\n",
      " [ 2  7 12]\n",
      " [ 3  8 13]\n",
      " [ 4  9 14]\n",
      " [ 5 10 15]]\n"
     ]
    }
   ],
   "source": [
    "myarray = np.column_stack([a,b,c])\n",
    "print(myarray)"
   ]
  },
  {
   "cell_type": "code",
   "execution_count": 4,
   "metadata": {},
   "outputs": [
    {
     "name": "stdout",
     "output_type": "stream",
     "text": [
      "[[ 2  7 12]\n",
      " [ 4  9 14]]\n"
     ]
    }
   ],
   "source": [
    "mysubarray = myarray[(1,3),:]\n",
    "print(mysubarray)"
   ]
  },
  {
   "cell_type": "code",
   "execution_count": 46,
   "metadata": {},
   "outputs": [
    {
     "name": "stdout",
     "output_type": "stream",
     "text": [
      "[[ 1  2  3  4  5]\n",
      " [ 6  7  8  9 10]\n",
      " [11 12 13 14 15]]\n",
      "[[ 1  6 11]\n",
      " [ 2  7 12]\n",
      " [ 3  8 13]\n",
      " [ 4  9 14]\n",
      " [ 5 10 15]]\n"
     ]
    }
   ],
   "source": [
    "a = np.arange(1,16).reshape(3,5)\n",
    "print(a)\n",
    "print(a.T)\n"
   ]
  },
  {
   "cell_type": "markdown",
   "metadata": {},
   "source": [
    "### 2. Divide each column of the array ``a`` elementwise with the array ``b``.\n",
    "\n",
    "(Hint: ``np.newaxis``)."
   ]
  },
  {
   "cell_type": "code",
   "execution_count": 48,
   "metadata": {},
   "outputs": [
    {
     "name": "stdout",
     "output_type": "stream",
     "text": [
      "[[ 0  1  2  3  4]\n",
      " [ 5  6  7  8  9]\n",
      " [10 11 12 13 14]\n",
      " [15 16 17 18 19]\n",
      " [20 21 22 23 24]]\n",
      "[  1.   5.  10.  15.  20.]\n"
     ]
    }
   ],
   "source": [
    "import numpy as np\n",
    "a = np.arange(25).reshape(5, 5)\n",
    "b = np.array([1., 5, 10, 15, 20])  #Here b is an ARRAY .. so we need to do different operations.\n",
    "print(a)\n",
    "print(b)"
   ]
  },
  {
   "cell_type": "code",
   "execution_count": 49,
   "metadata": {},
   "outputs": [
    {
     "name": "stdout",
     "output_type": "stream",
     "text": [
      "[[  1.]\n",
      " [  5.]\n",
      " [ 10.]\n",
      " [ 15.]\n",
      " [ 20.]]\n",
      "[[ 0.          1.          2.          3.          4.        ]\n",
      " [ 1.          1.2         1.4         1.6         1.8       ]\n",
      " [ 1.          1.1         1.2         1.3         1.4       ]\n",
      " [ 1.          1.06666667  1.13333333  1.2         1.26666667]\n",
      " [ 1.          1.05        1.1         1.15        1.2       ]]\n",
      "The next two commands don't work with b as an array/vector\n",
      "[  1.   5.  10.  15.  20.]\n"
     ]
    },
    {
     "ename": "ValueError",
     "evalue": "bad axis2 argument to swapaxes",
     "output_type": "error",
     "traceback": [
      "\u001b[0;31m---------------------------------------------------------------------------\u001b[0m",
      "\u001b[0;31mValueError\u001b[0m                                Traceback (most recent call last)",
      "\u001b[0;32m<ipython-input-49-6619a074cdff>\u001b[0m in \u001b[0;36m<module>\u001b[0;34m()\u001b[0m\n\u001b[1;32m      4\u001b[0m \u001b[0mprint\u001b[0m\u001b[1;33m(\u001b[0m\u001b[1;34m\"The next two commands don't work with b as an array/vector\"\u001b[0m\u001b[1;33m)\u001b[0m\u001b[1;33m\u001b[0m\u001b[0m\n\u001b[1;32m      5\u001b[0m \u001b[0mprint\u001b[0m\u001b[1;33m(\u001b[0m\u001b[0mb\u001b[0m\u001b[1;33m.\u001b[0m\u001b[0mT\u001b[0m\u001b[1;33m)\u001b[0m\u001b[1;33m\u001b[0m\u001b[0m\n\u001b[0;32m----> 6\u001b[0;31m \u001b[0mprint\u001b[0m\u001b[1;33m(\u001b[0m\u001b[0ma\u001b[0m\u001b[1;33m/\u001b[0m\u001b[0mnp\u001b[0m\u001b[1;33m.\u001b[0m\u001b[0mswapaxes\u001b[0m\u001b[1;33m(\u001b[0m\u001b[0mb\u001b[0m\u001b[1;33m,\u001b[0m\u001b[1;36m0\u001b[0m\u001b[1;33m,\u001b[0m\u001b[1;36m1\u001b[0m\u001b[1;33m)\u001b[0m\u001b[1;33m)\u001b[0m\u001b[1;33m\u001b[0m\u001b[0m\n\u001b[0m",
      "\u001b[0;32mC:\\Users\\kschmit1\\AppData\\Local\\Continuum\\Anaconda3\\lib\\site-packages\\numpy\\core\\fromnumeric.py\u001b[0m in \u001b[0;36mswapaxes\u001b[0;34m(a, axis1, axis2)\u001b[0m\n\u001b[1;32m    501\u001b[0m     \u001b[1;32mexcept\u001b[0m \u001b[0mAttributeError\u001b[0m\u001b[1;33m:\u001b[0m\u001b[1;33m\u001b[0m\u001b[0m\n\u001b[1;32m    502\u001b[0m         \u001b[1;32mreturn\u001b[0m \u001b[0m_wrapit\u001b[0m\u001b[1;33m(\u001b[0m\u001b[0ma\u001b[0m\u001b[1;33m,\u001b[0m \u001b[1;34m'swapaxes'\u001b[0m\u001b[1;33m,\u001b[0m \u001b[0maxis1\u001b[0m\u001b[1;33m,\u001b[0m \u001b[0maxis2\u001b[0m\u001b[1;33m)\u001b[0m\u001b[1;33m\u001b[0m\u001b[0m\n\u001b[0;32m--> 503\u001b[0;31m     \u001b[1;32mreturn\u001b[0m \u001b[0mswapaxes\u001b[0m\u001b[1;33m(\u001b[0m\u001b[0maxis1\u001b[0m\u001b[1;33m,\u001b[0m \u001b[0maxis2\u001b[0m\u001b[1;33m)\u001b[0m\u001b[1;33m\u001b[0m\u001b[0m\n\u001b[0m\u001b[1;32m    504\u001b[0m \u001b[1;33m\u001b[0m\u001b[0m\n\u001b[1;32m    505\u001b[0m \u001b[1;33m\u001b[0m\u001b[0m\n",
      "\u001b[0;31mValueError\u001b[0m: bad axis2 argument to swapaxes"
     ]
    }
   ],
   "source": [
    "#Put your additional code to answer the exercise here!\n",
    "print(b[:,np.newaxis])\n",
    "print(a/b[:,np.newaxis])\n",
    "print(\"The next two commands don't work with b as an array/vector\")\n",
    "print(b.T)\n",
    "print(a/np.swapaxes(b,0,1))"
   ]
  },
  {
   "cell_type": "code",
   "execution_count": 50,
   "metadata": {},
   "outputs": [
    {
     "name": "stdout",
     "output_type": "stream",
     "text": [
      "[[ 0  1  2  3  4]\n",
      " [ 5  6  7  8  9]\n",
      " [10 11 12 13 14]\n",
      " [15 16 17 18 19]\n",
      " [20 21 22 23 24]]\n",
      "[[  1.   5.  10.  15.  20.]]\n"
     ]
    }
   ],
   "source": [
    "b = np.array([[1., 5, 10, 15, 20]]) #If we make b an actual vector/matrix... then these work...\n",
    "print(a)\n",
    "print(b)"
   ]
  },
  {
   "cell_type": "code",
   "execution_count": 51,
   "metadata": {},
   "outputs": [
    {
     "name": "stdout",
     "output_type": "stream",
     "text": [
      "[[ 0.          1.          2.          3.          4.        ]\n",
      " [ 1.          1.2         1.4         1.6         1.8       ]\n",
      " [ 1.          1.1         1.2         1.3         1.4       ]\n",
      " [ 1.          1.06666667  1.13333333  1.2         1.26666667]\n",
      " [ 1.          1.05        1.1         1.15        1.2       ]]\n",
      "---\n",
      "[[ 0.          1.          2.          3.          4.        ]\n",
      " [ 1.          1.2         1.4         1.6         1.8       ]\n",
      " [ 1.          1.1         1.2         1.3         1.4       ]\n",
      " [ 1.          1.06666667  1.13333333  1.2         1.26666667]\n",
      " [ 1.          1.05        1.1         1.15        1.2       ]]\n"
     ]
    }
   ],
   "source": [
    "print(a/b.T)\n",
    "print(\"---\")\n",
    "print(a/np.swapaxes(b,0,1))"
   ]
  },
  {
   "cell_type": "markdown",
   "metadata": {},
   "source": [
    "### 3. Harder one: Generate a 10 x 3 array of random numbers (in range [0,1]).\n",
    "   For each row, pick the number closest to 0.5.\n",
    "\n",
    "   - Use ``abs`` and ``argsort`` to find the column ``j`` closest for\n",
    "     each row.\n",
    "\n",
    "   - Use fancy indexing to extract the numbers.  (Hint: ``a[i,j]`` --\n",
    "     the array ``i`` must contain the row numbers corresponding to stuff in\n",
    "     ``j``.)"
   ]
  },
  {
   "cell_type": "code",
   "execution_count": 62,
   "metadata": {},
   "outputs": [
    {
     "name": "stdout",
     "output_type": "stream",
     "text": [
      "[[ 0.40455147  0.79144583  0.93218615]\n",
      " [ 0.76366634  0.73488871  0.840182  ]\n",
      " [ 0.0443429   0.60701684  0.12597524]\n",
      " [ 0.33368313  0.25718737  0.20342042]\n",
      " [ 0.42226409  0.52349345  0.88037332]\n",
      " [ 0.15505445  0.73863724  0.32878009]\n",
      " [ 0.28801444  0.39194543  0.62579466]\n",
      " [ 0.30864849  0.91679441  0.83888483]\n",
      " [ 0.45974035  0.01046192  0.96936886]\n",
      " [ 0.02688044  0.16499487  0.83106187]]\n"
     ]
    }
   ],
   "source": [
    "#Put your additional code to answer the exercise here!\n",
    "randarry = np.random.rand(10,3)\n",
    "print(randarry)\n"
   ]
  },
  {
   "cell_type": "code",
   "execution_count": 65,
   "metadata": {},
   "outputs": [
    {
     "name": "stdout",
     "output_type": "stream",
     "text": [
      "Distance from 0.5\n",
      "[[-0.09544853  0.29144583  0.43218615]\n",
      " [ 0.26366634  0.23488871  0.340182  ]\n",
      " [-0.4556571   0.10701684 -0.37402476]\n",
      " [-0.16631687 -0.24281263 -0.29657958]\n",
      " [-0.07773591  0.02349345  0.38037332]\n",
      " [-0.34494555  0.23863724 -0.17121991]\n",
      " [-0.21198556 -0.10805457  0.12579466]\n",
      " [-0.19135151  0.41679441  0.33888483]\n",
      " [-0.04025965 -0.48953808  0.46936886]\n",
      " [-0.47311956 -0.33500513  0.33106187]]\n",
      "Absolute distance from 0.5\n",
      "[[ 0.09544853  0.29144583  0.43218615]\n",
      " [ 0.26366634  0.23488871  0.340182  ]\n",
      " [ 0.4556571   0.10701684  0.37402476]\n",
      " [ 0.16631687  0.24281263  0.29657958]\n",
      " [ 0.07773591  0.02349345  0.38037332]\n",
      " [ 0.34494555  0.23863724  0.17121991]\n",
      " [ 0.21198556  0.10805457  0.12579466]\n",
      " [ 0.19135151  0.41679441  0.33888483]\n",
      " [ 0.04025965  0.48953808  0.46936886]\n",
      " [ 0.47311956  0.33500513  0.33106187]]\n"
     ]
    }
   ],
   "source": [
    "#Find distance from 0.5\n",
    "print(\"Distance from 0.5\")\n",
    "print(randarry-0.5)\n",
    "print(\"Absolute distance from 0.5\")\n",
    "dist05=np.abs(randarry-0.5)\n",
    "print(dist05)"
   ]
  },
  {
   "cell_type": "code",
   "execution_count": 72,
   "metadata": {},
   "outputs": [
    {
     "name": "stdout",
     "output_type": "stream",
     "text": [
      "[[0 1 2]\n",
      " [1 0 2]\n",
      " [1 2 0]\n",
      " [0 1 2]\n",
      " [1 0 2]\n",
      " [2 1 0]\n",
      " [1 2 0]\n",
      " [0 2 1]\n",
      " [0 2 1]\n",
      " [2 1 0]]\n",
      "[0 1 1 0 1 2 1 0 0 2]\n"
     ]
    }
   ],
   "source": [
    "print(np.argsort(dist05,axis=1))\n",
    "indx_to_closest = np.argsort(dist05,axis=1)[:,0]\n",
    "print(indx_to_closest)"
   ]
  },
  {
   "cell_type": "code",
   "execution_count": 76,
   "metadata": {},
   "outputs": [
    {
     "name": "stdout",
     "output_type": "stream",
     "text": [
      "[[ 0.40455147  0.79144583  0.93218615]\n",
      " [ 0.76366634  0.73488871  0.840182  ]\n",
      " [ 0.0443429   0.60701684  0.12597524]\n",
      " [ 0.33368313  0.25718737  0.20342042]\n",
      " [ 0.42226409  0.52349345  0.88037332]\n",
      " [ 0.15505445  0.73863724  0.32878009]\n",
      " [ 0.28801444  0.39194543  0.62579466]\n",
      " [ 0.30864849  0.91679441  0.83888483]\n",
      " [ 0.45974035  0.01046192  0.96936886]\n",
      " [ 0.02688044  0.16499487  0.83106187]]\n"
     ]
    },
    {
     "ename": "AttributeError",
     "evalue": "'list' object has no attribute 'T'",
     "output_type": "error",
     "traceback": [
      "\u001b[0;31m---------------------------------------------------------------------------\u001b[0m",
      "\u001b[0;31mAttributeError\u001b[0m                            Traceback (most recent call last)",
      "\u001b[0;32m<ipython-input-76-f5d1e4a3ab2f>\u001b[0m in \u001b[0;36m<module>\u001b[0;34m()\u001b[0m\n\u001b[1;32m      1\u001b[0m \u001b[0mprint\u001b[0m\u001b[1;33m(\u001b[0m\u001b[0mrandarry\u001b[0m\u001b[1;33m)\u001b[0m\u001b[1;33m\u001b[0m\u001b[0m\n\u001b[0;32m----> 2\u001b[0;31m \u001b[0mprint\u001b[0m\u001b[1;33m(\u001b[0m\u001b[1;33m[\u001b[0m\u001b[1;33m[\u001b[0m\u001b[0mrandarry\u001b[0m\u001b[1;33m[\u001b[0m\u001b[0mnp\u001b[0m\u001b[1;33m.\u001b[0m\u001b[0marange\u001b[0m\u001b[1;33m(\u001b[0m\u001b[1;36m10\u001b[0m\u001b[1;33m)\u001b[0m\u001b[1;33m,\u001b[0m\u001b[0mindx_to_closest\u001b[0m\u001b[1;33m]\u001b[0m\u001b[1;33m]\u001b[0m\u001b[1;33m]\u001b[0m\u001b[1;33m.\u001b[0m\u001b[0mT\u001b[0m\u001b[1;33m)\u001b[0m\u001b[1;33m\u001b[0m\u001b[0m\n\u001b[0m",
      "\u001b[0;31mAttributeError\u001b[0m: 'list' object has no attribute 'T'"
     ]
    }
   ],
   "source": [
    "print(randarry)\n",
    "print(randarry[np.arange(10),indx_to_closest].T)"
   ]
  },
  {
   "cell_type": "markdown",
   "metadata": {},
   "source": [
    "## Some Basic Image Transformations"
   ]
  },
  {
   "cell_type": "markdown",
   "metadata": {},
   "source": [
    "Our goal in this set of code/exercises is to:\n",
    "* Create a simple grid of points in 2-D Space\n",
    "* Applied a graduated color scheme to those points\n",
    "* Plot the points\n",
    "* Perform some basic linear transformations on the points (and observe their movements)\n",
    "* (Advanced) -- Animate the transitions between the points.\n",
    "\n",
    "The cells below contains quite a bit of ``helper`` code to get going on some of the more difficult portions of these tasks (coloring, animation). If you are feeling adventuresome or confidence, try just adding a cell below THIS... and doing it all yourself! If not, use the portions below to get you jump-started.\n",
    "\n"
   ]
  },
  {
   "cell_type": "code",
   "execution_count": null,
   "metadata": {
    "collapsed": true
   },
   "outputs": [],
   "source": [
    "##Blank Cell for the Adventuresome!\n",
    "\n",
    "\n",
    "\n",
    "\n"
   ]
  },
  {
   "cell_type": "markdown",
   "metadata": {},
   "source": [
    "### Generating and Plotting the basic, colored points"
   ]
  },
  {
   "cell_type": "code",
   "execution_count": null,
   "metadata": {
    "collapsed": true
   },
   "outputs": [],
   "source": [
    "# Visualizing 2D linear transformations as animated gifs\n",
    "#\n",
    "# Code originally created by: Raibatak Das\n",
    "# Date: Nov 2016, Final version Dec. 2016\n",
    "#\n",
    "# Modified by: Karl Schmitt\n",
    "# Modifications REMOVED significant portions for teaching purposes\n",
    "# Last Modified 8/23/18\n",
    "\n",
    "## PART 1\n",
    "\n",
    "import numpy as np\n",
    "import matplotlib as mpl\n",
    "import matplotlib.pyplot as plt\n",
    "\n",
    "# Create a grid of points in x-y space \n",
    "\n",
    "        # Hint: Use mgrid, but in 2-D space....\n",
    "xygrid = #???\n",
    "    \n",
    "    \n",
    "# Plot original grid points\n",
    "# This function assigns a unique color based on position\n",
    "def colorizer(x, y):\n",
    "    \"\"\"\n",
    "    Map x-y coordinates to a rgb color\n",
    "    \"\"\"\n",
    "    r = min(1, 1-y/3)\n",
    "    g = min(1, 1+y/3)\n",
    "    b = 1/4 + x/16\n",
    "    return (r, g, b)\n",
    "\n",
    "# Map grid coordinates to colors\n",
    "colors = list(map(colorizer, xygrid[0], xygrid[1]))\n",
    "\n",
    "# Plot x-y grid points \n",
    "plt.figure(figsize=(4, 4), facecolor=\"w\")\n",
    "plt.scatter(xygrid[0], xygrid[1], c=colors, edgecolor=\"none\")\n",
    "# Set axis limits\n",
    "plt.grid(True)\n",
    "plt.axis(\"equal\")\n",
    "plt.title(\"Original grid in x-y space\")\n",
    "\n",
    "# uncomment to save plot\n",
    "#plt.savefig(\"../figures/grid-original.png\", dpi=150)\n",
    "#plt.savefig(\"../figures/grid-original-small.png\", dpi=75)"
   ]
  },
  {
   "cell_type": "markdown",
   "metadata": {},
   "source": [
    "### Now we'll try some transformations and plot the changed points."
   ]
  },
  {
   "cell_type": "code",
   "execution_count": null,
   "metadata": {
    "collapsed": true
   },
   "outputs": [],
   "source": [
    "# Visualizing 2D linear transformations as animated gifs\n",
    "#\n",
    "# Code originally created by: Raibatak Das\n",
    "# Date: Nov 2016, Final version Dec. 2016\n",
    "#\n",
    "# Modified by: Karl Schmitt\n",
    "# Modifications REMOVED significant portions for teaching purposes\n",
    "# Last Modified 8/23/18\n",
    "\n",
    "## PART 2\n",
    "\n",
    "# Transform and plot the grid points"
   ]
  },
  {
   "cell_type": "markdown",
   "metadata": {},
   "source": [
    "In the cell below, apply a linear transformation using the matrix:\n",
    "\n",
    "        [[2,  1],\n",
    "         [-1,  1]]\n",
    "\n",
    "Store that new matrix as ``uvgrid``\n",
    "\n",
    "Hint: To do matrix multiplication, use: ``np.dot( <left matrix>, <right matrix> )``"
   ]
  },
  {
   "cell_type": "code",
   "execution_count": null,
   "metadata": {
    "collapsed": true
   },
   "outputs": [],
   "source": [
    "# Apply linear transform\n",
    "a = #Define your transformation matrix here\n",
    "print(a)\n",
    "uvgrid = # Put your multiplication of a and xygrid here"
   ]
  },
  {
   "cell_type": "code",
   "execution_count": null,
   "metadata": {
    "collapsed": true
   },
   "outputs": [],
   "source": [
    "def plot_transform(uvgrid, colors):\n",
    "    # Plot transformed grid points\n",
    "    plt.figure(figsize=(4, 4), facecolor=\"w\")\n",
    "    plt.scatter(uvgrid[0], uvgrid[1], c=colors, edgecolor=\"none\")\n",
    "    plt.grid(True)\n",
    "    plt.axis(\"equal\")\n",
    "    plt.title(\"Transformed grid in u-v space\")\n",
    "    # uncomment to save plot\n",
    "    #plt.savefig(\"../figures/grid-transformed.png\", dpi=150)\n",
    "    #plt.savefig(\"../figures/grid-transformed-small.png\", dpi=75)\n",
    "    \n",
    "plot_transform(uvgrid, colors)"
   ]
  },
  {
   "cell_type": "markdown",
   "metadata": {},
   "source": [
    "Let's animate this transformation!"
   ]
  },
  {
   "cell_type": "code",
   "execution_count": null,
   "metadata": {
    "collapsed": true
   },
   "outputs": [],
   "source": [
    "# To animate the transform, we generate a series of intermediates\n",
    "# Function to compute all intermediate transforms\n",
    "def stepwise_transform(a, points, nsteps=30):\n",
    "    '''\n",
    "    Generate a series of intermediate transform for the matrix multiplication\n",
    "      np.dot(a, points) # matrix multiplication\n",
    "    starting with the identity matrix, where\n",
    "      a: 2-by-2 matrix\n",
    "      points: 2-by-n array of coordinates in x-y space \n",
    "    returns a (nsteps + 1)x2xn array\n",
    "    '''\n",
    "    # create empty array of the right size\n",
    "    transgrid = np.zeros((nsteps+1,) + np.shape(points))\n",
    "    for j in range(nsteps+1):\n",
    "        intermediate = np.eye(2) + j/nsteps*(a - np.eye(2)) # compute intermediate matrix\n",
    "        transgrid[j] = np.dot(intermediate, points) # apply intermediate matrix transformation\n",
    "    return transgrid\n",
    "\n",
    "# Apply to x-y grid\n",
    "steps = 30\n",
    "transform = stepwise_transform(a, xygrid, nsteps=steps)\n",
    "\n",
    "# Create a series of figures showing the intermediate transforms\n",
    "def make_plots(transarray, color, outdir=\"png-frames\", figuresize=(4,4), figuredpi=150):\n",
    "    '''\n",
    "    Generate a series of png images showing a linear transformation stepwise\n",
    "    '''\n",
    "    nsteps = transarray.shape[0]\n",
    "    ndigits = len(str(nsteps)) # to determine filename padding\n",
    "    maxval = np.abs(transarray.max()) # to set axis limits\n",
    "    # create directory if necessary\n",
    "    import os\n",
    "    if not os.path.exists(outdir):\n",
    "        os.makedirs(outdir)\n",
    "    # create figure\n",
    "    plt.ioff()\n",
    "    fig = plt.figure(figsize=figuresize, facecolor=\"w\")\n",
    "    for j in range(nsteps): # plot individual frames\n",
    "        plt.cla()\n",
    "        plt.scatter(transarray[j,0], transarray[j,1], s=36, c=color, edgecolor=\"none\")\n",
    "        plt.xlim(1.1*np.array([-maxval, maxval]))\n",
    "        plt.ylim(1.1*np.array([-maxval, maxval]))\n",
    "        plt.grid(True)\n",
    "        plt.draw()\n",
    "        # save as png\n",
    "        outfile = os.path.join(outdir, \"frame-\" + str(j+1).zfill(ndigits) + \".png\")\n",
    "        fig.savefig(outfile, dpi=figuredpi)\n",
    "    plt.ion()\n",
    "\n",
    "# Generate figures\n",
    "make_plots(transform, colors, outdir=\"tmp\")"
   ]
  },
  {
   "cell_type": "markdown",
   "metadata": {},
   "source": [
    "The following code for making a gif may not work on every system..."
   ]
  },
  {
   "cell_type": "code",
   "execution_count": null,
   "metadata": {
    "collapsed": true
   },
   "outputs": [],
   "source": [
    "# Convert to gif (works on linux/os-x, requires image-magick)\n",
    "from subprocess import call\n",
    "call(\"cd png-frames && convert -delay 10 frame-*.png ../animation.gif\", shell=True)\n",
    "# Optional: clean up png files\n",
    "call(\"rm -f png-frames/*.png\", shell=True)"
   ]
  },
  {
   "cell_type": "markdown",
   "metadata": {},
   "source": [
    "Alright, time for some more challenging transformations...\n",
    "\n",
    "Here I'll just specify what the transformation.. you'll need to determine what the matrix looks like!"
   ]
  },
  {
   "cell_type": "code",
   "execution_count": null,
   "metadata": {
    "collapsed": true
   },
   "outputs": [],
   "source": [
    "# Example 2: Rotation\n",
    "# 60 degree clockwise rotation  -- Hint, you'll need sin and cos...\n",
    "a = \n",
    "print(a)\n",
    "uvgrid = # generate!\n",
    "plot_transform(uvgrid, colors)\n",
    "\n",
    "#Make animations\n",
    "# Generate intermediates\n",
    "transform = stepwise_transform(a, xygrid, nsteps=steps)\n",
    "make_plots(transform, colors)\n",
    "# see above to create gif\n",
    "\n",
    "# Example 3: Shear\n",
    "a =  # shear along x-axis\n",
    "print(a)\n",
    "uvgrid = # generate!\n",
    "plot_transform(uvgrid, colors)\n",
    "\n",
    "#Make animations\n",
    "# Generate intermediates\n",
    "transform = stepwise_transform(a, xygrid, nsteps=steps)\n",
    "make_plots(transform, colors)\n",
    "# see above to create gif\n",
    "\n",
    "# Example 4: Permutation\n",
    "a = \n",
    "print(a)\n",
    "uvgrid = # generate!\n",
    "plot_transform(uvgrid, colors)\n",
    "\n",
    "#Make animations\n",
    "# Generate intermediates\n",
    "transform = stepwise_transform(a, xygrid, nsteps=steps)\n",
    "make_plots(transform, colors)\n",
    "# see above to create gif\n",
    "\n",
    "# Example 5: Projection\n",
    "a = \n",
    "print(a)\n",
    "uvgrid = # generate!\n",
    "plot_transform(uvgrid, colors)\n",
    "\n",
    "#Make animations\n",
    "# Generate intermediates\n",
    "transform = stepwise_transform(a, xygrid, nsteps=steps)\n",
    "make_plots(transform, colors)\n",
    "# see above to create gif"
   ]
  },
  {
   "cell_type": "markdown",
   "metadata": {},
   "source": [
    "## Picture manipulation: Framing a Face\n",
    "------------------------------------\n",
    "\n",
    "Let's do some manipulations on numpy arrays by starting with an image\n",
    "of a racoon.  ``scipy`` provides a 2D array of this image with the\n",
    "``scipy.misc.face`` function::"
   ]
  },
  {
   "cell_type": "code",
   "execution_count": null,
   "metadata": {
    "collapsed": true
   },
   "outputs": [],
   "source": [
    "from scipy import misc\n",
    "face = misc.face(gray=True)  # 2D grayscale image"
   ]
  },
  {
   "cell_type": "markdown",
   "metadata": {},
   "source": [
    "Here are a few images we will be able to obtain with our manipulations:\n",
    "use different colormaps, crop the image, change some parts of the image.\n",
    "\n",
    "* Create an array of the image with a narrower centering : for example,\n",
    "    remove 100 pixels from all the borders of the image. To check the result,\n",
    "    display this new array with ``imshow``.\n",
    "\n",
    "* We will now frame the face with a black locket. For this, we\n",
    "    need to create a mask corresponding to the pixels we want to be\n",
    "    black. The center of the face is around (660, 330), so we defined\n",
    "    the mask by this condition ``(y-300)**2 + (x-660)**2``\n",
    "\n",
    "    Change the circle to an ellipsoid.\n"
   ]
  }
 ],
 "metadata": {
  "kernelspec": {
   "display_name": "Python 3",
   "language": "python",
   "name": "python3"
  },
  "language_info": {
   "codemirror_mode": {
    "name": "ipython",
    "version": 3
   },
   "file_extension": ".py",
   "mimetype": "text/x-python",
   "name": "python",
   "nbconvert_exporter": "python",
   "pygments_lexer": "ipython3",
   "version": "3.6.0"
  }
 },
 "nbformat": 4,
 "nbformat_minor": 2
}
