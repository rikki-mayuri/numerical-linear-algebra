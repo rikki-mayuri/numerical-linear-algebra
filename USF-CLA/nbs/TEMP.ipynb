{
 "cells": [
  {
   "cell_type": "code",
   "execution_count": 7,
   "metadata": {
    "collapsed": true
   },
   "outputs": [],
   "source": [
    "import numpy as np\n",
    "import scipy as sp\n",
    "from scipy import linalg"
   ]
  },
  {
   "cell_type": "code",
   "execution_count": 2,
   "metadata": {},
   "outputs": [
    {
     "name": "stdout",
     "output_type": "stream",
     "text": [
      "[[ 1  1 10]\n",
      " [ 2  1 12]\n",
      " [ 2  2 15]\n",
      " [ 3  2 17]]\n"
     ]
    }
   ],
   "source": [
    "flowers = np.array([[1, 1, 10],[2, 1, 12], [2, 2, 15], [3, 2, 17]])\n",
    "print(flowers)"
   ]
  },
  {
   "cell_type": "code",
   "execution_count": 8,
   "metadata": {},
   "outputs": [
    {
     "name": "stdout",
     "output_type": "stream",
     "text": [
      "[[-0.35992497 -0.64948244  0.44567542  0.5       ]\n",
      " [-0.43537256  0.32057846  0.67652065 -0.5       ]\n",
      " [-0.54453842 -0.43556862 -0.51357364 -0.5       ]\n",
      " [-0.61998601  0.53449227 -0.28272841  0.5       ]]\n",
      "[ 28.02174538   0.74189317   0.48102034]\n",
      "[[-0.14915934 -0.11149721 -0.98250693]\n",
      " [ 0.97590067 -0.17665169 -0.12810956]\n",
      " [-0.15927765 -0.97793791  0.13515945]]\n"
     ]
    }
   ],
   "source": [
    "u, s, vt = linalg.svd(flowers)\n",
    "print(u)\n",
    "print(s)\n",
    "print(vt)"
   ]
  },
  {
   "cell_type": "code",
   "execution_count": null,
   "metadata": {
    "collapsed": true
   },
   "outputs": [],
   "source": []
  }
 ],
 "metadata": {
  "kernelspec": {
   "display_name": "Python 3",
   "language": "python",
   "name": "python3"
  },
  "language_info": {
   "codemirror_mode": {
    "name": "ipython",
    "version": 3
   },
   "file_extension": ".py",
   "mimetype": "text/x-python",
   "name": "python",
   "nbconvert_exporter": "python",
   "pygments_lexer": "ipython3",
   "version": "3.6.0"
  }
 },
 "nbformat": 4,
 "nbformat_minor": 2
}
