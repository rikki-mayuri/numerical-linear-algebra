{
 "cells": [
  {
   "cell_type": "markdown",
   "metadata": {},
   "source": [
    "## Midterm"
   ]
  },
  {
   "cell_type": "code",
   "execution_count": 3,
   "metadata": {},
   "outputs": [],
   "source": [
    "%matplotlib inline\n",
    "import math,sys,os,numpy as np\n",
    "from numpy.linalg import norm\n",
    "from PIL import Image\n",
    "from matplotlib import pyplot as plt, rcParams, rc\n",
    "# from scipy.ndimage import imread\n",
    "# from skimage.measure import block_reduce\n",
    "import pickle as pickle\n",
    "from scipy import linalg\n",
    "from scipy.ndimage.filters import correlate, convolve\n",
    "rcParams['figure.figsize'] = 3, 6\n",
    "%precision 4\n",
    "np.set_printoptions(precision=4, linewidth=100)\n",
    "\n",
    "def plots(ims, interp=False, titles=None):\n",
    "    ims=np.array(ims)\n",
    "    mn,mx=ims.min(),ims.max()\n",
    "    f = plt.figure(figsize=(12,24))\n",
    "    for i in range(len(ims)):\n",
    "        sp=f.add_subplot(1, len(ims), i+1)\n",
    "        if not titles is None: sp.set_title(titles[i], fontsize=18)\n",
    "        plt.imshow(ims[i], interpolation=None if interp else 'none', vmin=mn,vmax=mx)\n",
    "\n",
    "def plot(im, interp=False):\n",
    "    f = plt.figure(figsize=(3,6), frameon=True)\n",
    "    plt.imshow(im, interpolation=None if interp else 'none')"
   ]
  },
  {
   "cell_type": "markdown",
   "metadata": {},
   "source": [
    "This is due on Thurs, 10/25/18"
   ]
  },
  {
   "cell_type": "markdown",
   "metadata": {},
   "source": [
    "1. Consider the polynomial $p(x) = (x-2)^9 = x^9 - 18x^8 + 144x^7 - 672x^6 + 2016x^5 - 4032x^4 + 5376x^3 - 4608x^2 + 2304x - 512$\n",
    "\n",
    "  a. Plot $p(x)$ for $x=1.920,\\,1.921,\\,1.922,\\ldots,2.080$ evaluating $p$ via its coefficients $1,\\,,-18,\\,144,\\ldots$\n",
    "\n",
    "  b. Plot the same plot again, now evaluating $p$ via the expression $(x-2)^9$.\n",
    "\n",
    "  c. Explain the difference.\n",
    "  \n",
    "  *(The numpy method linspace will be useful for this)*"
   ]
  },
  {
   "cell_type": "code",
   "execution_count": 2,
   "metadata": {},
   "outputs": [
    {
     "data": {
      "image/png": "[encoded data removed]",
      "text/plain": [
       "<Figure size 432x288 with 1 Axes>"
      ]
     },
     "metadata": {
      "needs_background": "light"
     },
     "output_type": "display_data"
    }
   ],
   "source": [
    "def test_px1(x):\n",
    "    return x**9 - 18.*x**8 + 144.*x**7 - 672.*x**6 + 2016.*x**5 - 4032.*x**4 + 5376.*x**3 - 4608.*x**2 + 2304.*x - 512.\n",
    "\n",
    "def test_px2(x):\n",
    "    return (x-2)**9\n",
    "\n",
    "x = np.arange(1.920, 2.081, 0.001)\n",
    "\n",
    "fig, ax = plt.subplots()\n",
    "\n",
    "#plotting the expanded form\n",
    "# TODO: part (a)\n",
    "ax.plot(x, test_px1(x), label=\"(foiled variant)\")\n",
    "\n",
    "#plotting the original function\n",
    "# TODO: part (b)\n",
    "ax.plot(x, test_px2(x), label=\"(x-2)^9\")\n",
    "ax.legend()\n",
    "plt.show()"
   ]
  },
  {
   "cell_type": "markdown",
   "metadata": {},
   "source": [
    "What we can see from comparing the two plots is that the expanded version of _p(x)_ , blue line, is prone to much more volatility in this particular toolset.  We know this to be true via the closed form _p(x)_, orange line.  The latter presented a much smoother plot, much more akin to what we know to be true for such a function.  The volatility in the blue line can, in part, be rationalized by the much more potent presence of floating point arithmetic in the expanded fucntion.  In other words, the error within the floating point arithmatic propagates and increases with each subsequent operation in _px1(x)_.  It's worth noting the granularity at which this noise is present.  In order to visually detect this variance in the plots we are functioning within the margins of \t$^+/_-1.5*10^{-10}$ on the y-axis."
   ]
  },
  {
   "cell_type": "markdown",
   "metadata": {},
   "source": [
    "2\\. From the Halide Video, what are 4 ways to traverse a 2d array?"
   ]
  },
  {
   "cell_type": "code",
   "execution_count": null,
   "metadata": {},
   "outputs": [],
   "source": []
  },
  {
   "cell_type": "markdown",
   "metadata": {},
   "source": [
    "3\\. Using the animations below ([source](https://www.youtube.com/watch?v=3uiEyEKji0M)), explain what the benefits and pitfalls of each approach. Green squares indicate that a value is being read; red indicates a value is being written. Your answers should be longer in length (give more detail) than just two words.\n",
    "\n",
    "  a. <img src=\"Halide1.gif\" alt=\"Halide\" style=\"width: 70%\"/>\n",
    "  \n",
    "  b. <img src=\"Halide2.gif\" alt=\"Halide\" style=\"width: 70%\"/>\n",
    "  \n",
    "  c. <img src=\"Halide3.gif\" alt=\"Halide\" style=\"width: 70%\"/>"
   ]
  },
  {
   "cell_type": "markdown",
   "metadata": {},
   "source": [
    "4\\. Prove that if $A = Q B Q^T$ for some orthonogonal matrix $Q$, then$A$ and $B$ have the same singular values."
   ]
  },
  {
   "cell_type": "code",
   "execution_count": 19,
   "metadata": {},
   "outputs": [
    {
     "name": "stdout",
     "output_type": "stream",
     "text": [
      "[[-0.688   0.1771  0.1341  0.3895 -0.2336  0.0786  0.1178  0.159  -0.475 ]\n",
      " [ 0.1322  0.0016  0.0421 -0.3542 -0.2453  0.1217 -0.5854  0.603  -0.272 ]\n",
      " [-0.0891 -0.3266 -0.4012 -0.2516  0.1127 -0.2567 -0.172  -0.4393 -0.6   ]\n",
      " [-0.0362  0.3425  0.3064 -0.1394  0.6919 -0.4526  0.0319  0.2267 -0.179 ]\n",
      " [ 0.6159  0.2343  0.1461  0.098  -0.0474  0.3248  0.3491 -0.0808 -0.5466]\n",
      " [-0.1245 -0.5572  0.6912 -0.3568 -0.0573  0.0795  0.2283 -0.0694 -0.0501]\n",
      " [-0.1441  0.3268  0.2935 -0.058   0.1908  0.4523 -0.5184 -0.5209  0.0439]\n",
      " [-0.0397 -0.4433 -0.1898  0.2881  0.589   0.5058 -0.0326  0.2774 -0.0462]\n",
      " [-0.2877  0.2756 -0.3228 -0.6456  0.0706  0.3689  0.4112  0.084   0.0553]]\n",
      "(9, 9)\n",
      "(9,)\n",
      "(9, 9)\n"
     ]
    }
   ],
   "source": [
    "# By nature of the relationship between dimensions QBQ*, \n",
    "#  we knnow that B is of dimensions n x n\n",
    "# (m x n) (n x r) (n x m) => r == n and A.shape == (m x m)\n",
    "m, n = 9, 6\n",
    "a = np.random.randn(m, m)\n",
    "\n",
    "Q = np.random.normal(a.shape[1], size))\n",
    "\n",
    "\n",
    "U, s, Vh = linalg.svd(a)\n",
    "\n",
    "print(U)\n",
    "print(U.shape)\n",
    "print(s.shape)\n",
    "print(Vh.shape)\n",
    "\n"
   ]
  },
  {
   "cell_type": "markdown",
   "metadata": {},
   "source": [
    "5\\. Consider a particular species of wildflower in which each plant has several stems, leaves, and flowers, and for each plant let the following hold:\n",
    "\n",
    "S = the average stem length (in inches)\n",
    "\n",
    "L = the average leaf width (in inches)\n",
    "\n",
    "F = the number of flowers\n",
    "\n",
    "Four particular plans are examined, and the information is tabulated in the following matrix, with rows representing a single plant, and columns in the order {S, L, F}:"
   ]
  },
  {
   "cell_type": "code",
   "execution_count": 9,
   "metadata": {},
   "outputs": [
    {
     "name": "stdout",
     "output_type": "stream",
     "text": [
      "[[ 1  1 10]\n",
      " [ 2  1 12]\n",
      " [ 2  2 15]\n",
      " [ 3  2 17]]\n"
     ]
    }
   ],
   "source": [
    "import numpy as np\n",
    "flowers = np.array([[1, 1, 10],[2, 1, 12], [2, 2, 15], [3, 2, 17]])\n",
    "print(flowers)"
   ]
  },
  {
   "cell_type": "markdown",
   "metadata": {},
   "source": [
    "5\\. (Continued) Find the SVD of the matrix. Determine if there exists a linear relationship between S, L, and F. In other words, does there exist constants $\\alpha_0$, $\\alpha_1$, $\\alpha_2$, $\\alpha_3$ such that $\\alpha_0 + \\alpha_1 S + \\alpha_2 L + \\alpha_3 F = 0$. \n",
    "\n",
    "_Hint: You may want to determine yourself, via algebra, if there exists a linear relationship, then determine what parts of SVD help explain this and how_"
   ]
  },
  {
   "cell_type": "code",
   "execution_count": 18,
   "metadata": {},
   "outputs": [
    {
     "name": "stdout",
     "output_type": "stream",
     "text": [
      "[[-0.3599  0.6495  0.4457  0.5   ]\n",
      " [-0.4354 -0.3206  0.6765 -0.5   ]\n",
      " [-0.5445  0.4356 -0.5136 -0.5   ]\n",
      " [-0.62   -0.5345 -0.2827  0.5   ]]\n",
      "[28.0217  0.7419  0.481 ]\n",
      "[[-0.1492 -0.1115 -0.9825]\n",
      " [-0.9759  0.1767  0.1281]\n",
      " [-0.1593 -0.9779  0.1352]]\n",
      "[-0.347+0.9379j -0.347-0.9379j -1.   +0.j      1.   +0.j    ]\n",
      "[-1.    +0.j      0.5813+0.8137j  0.5813-0.8137j]\n"
     ]
    }
   ],
   "source": [
    "# ie) Does V exist, where A * V = 0 such that V = T.[a0, ... , a3]\n",
    "\n",
    "U, s, Vt = linalg.svd(flowers)\n",
    "\n",
    "print(U)\n",
    "\n",
    "print(s)\n",
    "\n",
    "print(Vt)\n",
    "\n",
    "print(linalg.eigvals(U))\n",
    "print(linalg.eigvals(Vt))"
   ]
  },
  {
   "cell_type": "markdown",
   "metadata": {
    "collapsed": true
   },
   "source": [
    "6\\. Turn yourself (or a classmate) into a mermaid. Or at least show that you (they) might have played on on TV. I have included several images of dolphins and fish in the exam folder (though you are welcome to find another one if you want). If you really struggle with this, I have also included an image of a \"mermaid photo board\". However, if you use this, you will NOT receive full credit. \n",
    "\n",
    "In addition to the CODE (and final image), you need to include an explanation of the process, and the mathematics you used to accomplish this feat!"
   ]
  },
  {
   "cell_type": "markdown",
   "metadata": {},
   "source": [
    "In order to "
   ]
  },
  {
   "cell_type": "code",
   "execution_count": null,
   "metadata": {
    "collapsed": true
   },
   "outputs": [],
   "source": []
  }
 ],
 "metadata": {
  "kernelspec": {
   "display_name": "Python 3",
   "language": "python",
   "name": "python3"
  },
  "language_info": {
   "codemirror_mode": {
    "name": "ipython",
    "version": 3
   },
   "file_extension": ".py",
   "mimetype": "text/x-python",
   "name": "python",
   "nbconvert_exporter": "python",
   "pygments_lexer": "ipython3",
   "version": "3.6.5"
  }
 },
 "nbformat": 4,
 "nbformat_minor": 2
}
