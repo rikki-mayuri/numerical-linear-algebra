{
 "cells": [
  {
   "cell_type": "markdown",
   "metadata": {},
   "source": [
    "## Midterm"
   ]
  },
  {
   "cell_type": "code",
   "execution_count": 4,
   "metadata": {},
   "outputs": [],
   "source": [
    "%matplotlib inline\n",
    "from scipy.stats import ortho_group\n",
    "import math,sys,os,numpy as np\n",
    "from numpy.linalg import norm\n",
    "from PIL import Image\n",
    "from matplotlib import pyplot as plt, rcParams, rc\n",
    "# from scipy.ndimage import imread\n",
    "# from skimage.measure import block_reduce\n",
    "import pickle as pickle\n",
    "from scipy import linalg\n",
    "from scipy.ndimage.filters import correlate, convolve\n",
    "rcParams['figure.figsize'] = 3, 6\n",
    "%precision 4\n",
    "np.set_printoptions(precision=4, linewidth=100)\n",
    "\n",
    "def plots(ims, interp=False, titles=None):\n",
    "    ims=np.array(ims)\n",
    "    mn,mx=ims.min(),ims.max()\n",
    "    f = plt.figure(figsize=(12,24))\n",
    "    for i in range(len(ims)):\n",
    "        sp=f.add_subplot(1, len(ims), i+1)\n",
    "        if not titles is None: sp.set_title(titles[i], fontsize=18)\n",
    "        plt.imshow(ims[i], interpolation=None if interp else 'none', vmin=mn,vmax=mx)\n",
    "\n",
    "def plot(im, interp=False):\n",
    "    f = plt.figure(figsize=(3,6), frameon=True)\n",
    "    plt.imshow(im, interpolation=None if interp else 'none')"
   ]
  },
  {
   "cell_type": "markdown",
   "metadata": {},
   "source": [
    "1. Consider the polynomial $p(x) = (x-2)^9 = x^9 - 18x^8 + 144x^7 - 672x^6 + 2016x^5 - 4032x^4 + 5376x^3 - 4608x^2 + 2304x - 512$\n",
    "\n",
    "  a. Plot $p(x)$ for $x=1.920,\\,1.921,\\,1.922,\\ldots,2.080$ evaluating $p$ via its coefficients $1,\\,,-18,\\,144,\\ldots$\n",
    "\n",
    "  b. Plot the same plot again, now evaluating $p$ via the expression $(x-2)^9$.\n",
    "\n",
    "  c. Explain the difference.\n",
    "  \n",
    "  *(The numpy method linspace will be useful for this)*"
   ]
  },
  {
   "cell_type": "code",
   "execution_count": 6,
   "metadata": {},
   "outputs": [
    {
     "data": {
      "image/png": "[encoded data removed]",
      "text/plain": [
       "<Figure size 216x432 with 1 Axes>"
      ]
     },
     "metadata": {
      "needs_background": "light"
     },
     "output_type": "display_data"
    }
   ],
   "source": [
    "def test_px1(x):\n",
    "    return x**9 - 18.*x**8 + 144.*x**7 - 672.*x**6 + 2016.*x**5 - 4032.*x**4 + 5376.*x**3 - 4608.*x**2 + 2304.*x - 512.\n",
    "\n",
    "def test_px2(x):\n",
    "    return (x-2)**9\n",
    "\n",
    "x = np.arange(1.920, 2.081, 0.001)\n",
    "\n",
    "fig, ax = plt.subplots()\n",
    "\n",
    "#plotting the expanded form\n",
    "# TODO: part (a)\n",
    "ax.plot(x, test_px1(x), label=\"(foiled variant)\")\n",
    "\n",
    "#plotting the original function\n",
    "# TODO: part (b)\n",
    "ax.plot(x, test_px2(x), label=\"(x-2)^9\")\n",
    "ax.legend()\n",
    "plt.show()"
   ]
  },
  {
   "cell_type": "markdown",
   "metadata": {},
   "source": [
    "What we can see from comparing the two plots is that the expanded version of _p(x)_ , blue line, is prone to much more volatility in this particular toolset.  We know this to be true via the closed form _p(x)_, orange line.  The latter presented a much smoother plot, much more akin to what we know to be true for such a function.  The volatility in the blue line can, in part, be rationalized by the much more potent presence of floating point arithmetic in the expanded fucntion.  In other words, the error within the floating point arithmatic propagates and increases with each subsequent operation in _px1(x)_.  It's worth noting the granularity at which this noise is present.  In order to visually detect this variance in the plots we are functioning within the margins of \t$^+/_-1.5*10^{-10}$ on the y-axis."
   ]
  },
  {
   "cell_type": "markdown",
   "metadata": {},
   "source": [
    "2\\. From the Halide Video, what are 4 ways to traverse a 2d array?"
   ]
  },
  {
   "cell_type": "markdown",
   "metadata": {},
   "source": [
    "  1. Serially read by row then the columns within (Serial X, Y)\n",
    "  2. Serially by row, processing vector chunks of length 'x' for each row\n",
    "  3. Parallelize (via a new Thread, Process, Agent, etc...) each row read, then vectorize each row in chunks of length 'x'\n",
    "  4. Via locality (ie. split into clusters of size (x, y)), but serially within each cluster.\n",
    "     "
   ]
  },
  {
   "cell_type": "markdown",
   "metadata": {},
   "source": [
    "3\\. Using the animations below ([source](https://www.youtube.com/watch?v=3uiEyEKji0M)), explain what the benefits and pitfalls of each approach. Green squares indicate that a value is being read; red indicates a value is being written. Your answers should be longer in length (give more detail) than just two words.\n",
    "\n",
    "  a. <img src=\"Halide1.gif\" alt=\"Halide\" style=\"width: 70%\"/>\n",
    "  \n",
    "  b. <img src=\"Halide2.gif\" alt=\"Halide\" style=\"width: 70%\"/>\n",
    "  \n",
    "  c. <img src=\"Halide3.gif\" alt=\"Halide\" style=\"width: 70%\"/>"
   ]
  },
  {
   "cell_type": "markdown",
   "metadata": {},
   "source": [
    "  a. This implementation is the most trivial to implement.  It quickly reads the data in and stores it into memory in one loop, then traverses through the data in memory once more to compute its result.  While easy to understand and quick to implement, this method is not performant and will clog resources on larger datasets.\n",
    "  \n",
    "  b. This method hyper optimizes in-memory usage.  By using locality to read the data in, compute the target, output its result, and clear the memory consumed within each iteration.  In practice, this code may become highly depending upond the data's context.  In certain contexts, may not even be possible.  \n",
    "  \n",
    "  c. This method is a smart compromise between (a) and (b), it computes the data using locality to find what targets it can during the same looped iteration to read in it's requisite data in serially by split rows.  "
   ]
  },
  {
   "cell_type": "markdown",
   "metadata": {},
   "source": [
    "4\\. Prove that if $A = Q B Q^T$ for some orthonogonal matrix $Q$, then$A$ and $B$ have the same singular values."
   ]
  },
  {
   "cell_type": "markdown",
   "metadata": {},
   "source": [
    "By nature of $Q$ being othogonal, we can conclude that $A$ is a square matrix whose dimensions match that of $Q$.\n",
    "\n",
    "Furthermore, we now that the SVD of a square matrix $A$ yields the form (1) $A = Q D Q^T$, such that $D$ is a diagonal matrix whose diagonal elements represent the singular values for $A$.  Typically, the specific SVD scoped to square matrices is known as Eigendecomposition.  \n",
    "\n",
    "Let us define the SVD of unknown matrix $B$ to be (2) $B = U \\Sigma V^T$, where $U$ and $V$ are unitary matrices of dimensions (m, m) and (n, n) respectively.  Matrix $\\Sigma$ is then said to be the diagonal matrix whose diagonal values correspond the the singular values of matri $B$.  \n",
    "\n",
    "From our initial condition we have:\n",
    "\n",
    "(3) $A = Q B Q^T$\n",
    "\n",
    "(4) $= Q (U \\Sigma V^T) Q^T$  (substitute B for $U \\Sigma V^T$)\n",
    "\n",
    "(5) $= (QU) \\Sigma (VQ)^T$ (associative and transpose properties of matrix)\n",
    "\n",
    "By extension of the analysis of the dimensions of matrices $Q$, $U$, and $V$ (in additional to the unitary property), we can conclude that both $QU$ and $(VQ)^T$ are also unitary.  Thus if we define:\n",
    "\n",
    "(6) $F = QU$ and (7) $G = (VQ)^T$\n",
    "\n",
    "Then we can express equations (5) as:\n",
    "\n",
    "(8) $A = F \\Sigma G^T$\n",
    "\n",
    "Since both $F$ and $G$ are orthogonal, we've again reached the definition of the SVD of a matrix.  We can clearly see from both (8) and (2), that if $A = Q B Q^T$, both $A$ and $B$ have the same singular values from the diagonal elements of the same diagonal matrix $\\sigma$\n"
   ]
  },
  {
   "cell_type": "code",
   "execution_count": 3,
   "metadata": {},
   "outputs": [
    {
     "name": "stdout",
     "output_type": "stream",
     "text": [
      "[[ True  True  True  True  True  True  True  True  True]\n",
      " [ True  True  True  True  True  True  True  True  True]\n",
      " [ True  True  True  True  True  True  True  True  True]\n",
      " [ True  True  True  True  True  True  True  True  True]\n",
      " [ True  True  True  True  True  True  True  True  True]\n",
      " [ True  True  True  True  True  True  True  True  True]\n",
      " [ True  True  True  True  True  True  True  True  True]\n",
      " [ True  True  True  True  True  True  True  True  True]\n",
      " [ True  True  True  True  True  True  True  True  True]]\n",
      "[6.0449 4.0595 3.3622 2.9339 2.0434 1.5576 1.2079 0.8837 0.2908]\n",
      "[6.0449 4.0595 3.3622 2.9339 2.0434 1.5576 1.2079 0.8837 0.2908]\n"
     ]
    }
   ],
   "source": [
    "#quick toy example\n",
    "m, n = 9, 6\n",
    "A = np.random.randn(m, m)\n",
    "Q = ortho_group.rvs(m)\n",
    "B = Q.T @ A @ Q\n",
    "\n",
    "# equation held within some precision\n",
    "print(A - Q @ B @ Q.T < .000000000001)\n",
    "\n",
    "U0, s0, Vt0 = linalg.svd(A)\n",
    "print(s0)\n",
    "\n",
    "U1, s1, Vt1 = linalg.svd(B)\n",
    "print(s1)"
   ]
  },
  {
   "cell_type": "markdown",
   "metadata": {},
   "source": [
    "5\\. Consider a particular species of wildflower in which each plant has several stems, leaves, and flowers, and for each plant let the following hold:\n",
    "\n",
    "S = the average stem length (in inches)\n",
    "\n",
    "L = the average leaf width (in inches)\n",
    "\n",
    "F = the number of flowers\n",
    "\n",
    "Four particular plans are examined, and the information is tabulated in the following matrix, with rows representing a single plant, and columns in the order {S, L, F}:"
   ]
  },
  {
   "cell_type": "code",
   "execution_count": 8,
   "metadata": {},
   "outputs": [
    {
     "name": "stdout",
     "output_type": "stream",
     "text": [
      "[[ 1  1 10]\n",
      " [ 2  1 12]\n",
      " [ 2  2 15]\n",
      " [ 3  2 17]]\n"
     ]
    }
   ],
   "source": [
    "import numpy as np\n",
    "flowers = np.array([[1, 1, 10],[2, 1, 12], [2, 2, 15], [3, 2, 17]])\n",
    "print(flowers)"
   ]
  },
  {
   "cell_type": "markdown",
   "metadata": {},
   "source": [
    "5\\. (Continued) Find the SVD of the matrix. Determine if there exists a linear relationship between S, L, and F. In other words, does there exist constants $\\alpha_0$, $\\alpha_1$, $\\alpha_2$, $\\alpha_3$ such that $\\alpha_0 + \\alpha_1 S + \\alpha_2 L + \\alpha_3 F = 0$. \n",
    "\n",
    "_Hint: You may want to determine yourself, via algebra, if there exists a linear relationship, then determine what parts of SVD help explain this and how_"
   ]
  },
  {
   "cell_type": "code",
   "execution_count": 9,
   "metadata": {},
   "outputs": [
    {
     "ename": "AttributeError",
     "evalue": "'numpy.ndarray' object has no attribute 'rref'",
     "output_type": "error",
     "traceback": [
      "\u001b[0;31m---------------------------------------------------------------------------\u001b[0m",
      "\u001b[0;31mAttributeError\u001b[0m                            Traceback (most recent call last)",
      "\u001b[0;32m<ipython-input-9-26dac786b55a>\u001b[0m in \u001b[0;36m<module>\u001b[0;34m()\u001b[0m\n\u001b[1;32m      3\u001b[0m \u001b[0mU\u001b[0m\u001b[0;34m,\u001b[0m \u001b[0ms\u001b[0m\u001b[0;34m,\u001b[0m \u001b[0mVt\u001b[0m \u001b[0;34m=\u001b[0m \u001b[0mlinalg\u001b[0m\u001b[0;34m.\u001b[0m\u001b[0msvd\u001b[0m\u001b[0;34m(\u001b[0m\u001b[0mflowers\u001b[0m\u001b[0;34m)\u001b[0m\u001b[0;34m\u001b[0m\u001b[0m\n\u001b[1;32m      4\u001b[0m \u001b[0;34m\u001b[0m\u001b[0m\n\u001b[0;32m----> 5\u001b[0;31m \u001b[0mprint\u001b[0m\u001b[0;34m(\u001b[0m\u001b[0mflowers\u001b[0m\u001b[0;34m.\u001b[0m\u001b[0mrref\u001b[0m\u001b[0;34m(\u001b[0m\u001b[0;34m)\u001b[0m\u001b[0;34m)\u001b[0m\u001b[0;34m\u001b[0m\u001b[0m\n\u001b[0m\u001b[1;32m      6\u001b[0m \u001b[0;34m\u001b[0m\u001b[0m\n\u001b[1;32m      7\u001b[0m \u001b[0mprint\u001b[0m\u001b[0;34m(\u001b[0m\u001b[0mU\u001b[0m\u001b[0;34m)\u001b[0m\u001b[0;34m\u001b[0m\u001b[0m\n",
      "\u001b[0;31mAttributeError\u001b[0m: 'numpy.ndarray' object has no attribute 'rref'"
     ]
    }
   ],
   "source": [
    "# ie) Does V exist, where A * V = 0 such that V = T.[a0, ... , a3]\n",
    "\n",
    "U, s, Vt = linalg.svd(flowers)\n",
    "\n",
    "print(flowers.rref())\n",
    "\n",
    "print(U)\n",
    "\n",
    "print(s)\n",
    "\n",
    "print(Vt)\n",
    "\n",
    "print(linalg.eigvals(U))\n",
    "print(linalg.eigvals(Vt))"
   ]
  },
  {
   "cell_type": "markdown",
   "metadata": {
    "collapsed": true
   },
   "source": [
    "6\\. Turn yourself (or a classmate) into a mermaid. Or at least show that you (they) might have played on on TV. I have included several images of dolphins and fish in the exam folder (though you are welcome to find another one if you want). If you really struggle with this, I have also included an image of a \"mermaid photo board\". However, if you use this, you will NOT receive full credit. \n",
    "\n",
    "In addition to the CODE (and final image), you need to include an explanation of the process, and the mathematics you used to accomplish this feat!"
   ]
  },
  {
   "cell_type": "markdown",
   "metadata": {},
   "source": [
    "In order to "
   ]
  },
  {
   "cell_type": "code",
   "execution_count": null,
   "metadata": {
    "collapsed": true
   },
   "outputs": [],
   "source": []
  }
 ],
 "metadata": {
  "kernelspec": {
   "display_name": "Python 3",
   "language": "python",
   "name": "python3"
  },
  "language_info": {
   "codemirror_mode": {
    "name": "ipython",
    "version": 3
   },
   "file_extension": ".py",
   "mimetype": "text/x-python",
   "name": "python",
   "nbconvert_exporter": "python",
   "pygments_lexer": "ipython3",
   "version": "3.6.5"
  }
 },
 "nbformat": 4,
 "nbformat_minor": 2
}
